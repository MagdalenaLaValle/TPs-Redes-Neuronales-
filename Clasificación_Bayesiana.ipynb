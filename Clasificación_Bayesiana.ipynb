{
  "cells": [
    {
      "cell_type": "markdown",
      "metadata": {
        "id": "SEeFm-uEppTZ"
      },
      "source": [
        "<span style=\"font-size: 30px;\">EJERCICIO DE CLASIFICACIÓN BAYESIANA </span>\n",
        "\n",
        "A partir del dataset de pesos y alturas, construir manualmente (sin usar sklearn) un Clasificador Bayesiano LDA. Para calcular los parámetros, utilizar las fórmulas compartidas en la notebook correspondiente."
      ]
    },
    {
      "cell_type": "markdown",
      "metadata": {},
      "source": [
        "<span style=\"font-size: 24px;\">Preparación de los datos</span>"
      ]
    },
    {
      "cell_type": "code",
      "execution_count": 1,
      "metadata": {
        "id": "1zQDIPrlpqFs"
      },
      "outputs": [],
      "source": [
        "import numpy as np\n",
        "import pandas as pd\n",
        "import matplotlib.pyplot as plt"
      ]
    },
    {
      "cell_type": "code",
      "execution_count": 2,
      "metadata": {
        "id": "Xsm2eftYpm2-"
      },
      "outputs": [],
      "source": [
        "data_train=pd.read_csv('alturas-pesos-mils-train.csv')\n",
        "data_test=pd.read_csv('alturas-pesos-mils-test.csv')"
      ]
    },
    {
      "cell_type": "code",
      "execution_count": 3,
      "metadata": {
        "collapsed": true,
        "id": "0aNomCforF-B"
      },
      "outputs": [],
      "source": [
        "#Paso la infromación del .csv a vectores para que sea más fácil manipular la información\n",
        "genero_train= data_train['Genero']\n",
        "wh_train=data_train.iloc[:, 2:4].values\n",
        "\n",
        "genero_test= data_test['Genero']\n",
        "wh_test=data_test.iloc[:, 2:4].values"
      ]
    },
    {
      "cell_type": "code",
      "execution_count": 4,
      "metadata": {},
      "outputs": [
        {
          "data": {
            "text/plain": [
              "array([[ 61.235, 162.402],\n",
              "       [ 97.432, 181.908],\n",
              "       [ 73.324, 172.459],\n",
              "       ...,\n",
              "       [ 75.461, 170.91 ],\n",
              "       [ 65.461, 166.137],\n",
              "       [ 80.323, 171.575]])"
            ]
          },
          "execution_count": 4,
          "metadata": {},
          "output_type": "execute_result"
        }
      ],
      "source": [
        "wh_train"
      ]
    },
    {
      "cell_type": "code",
      "execution_count": 5,
      "metadata": {},
      "outputs": [
        {
          "data": {
            "text/plain": [
              "array([[ 90.202, 177.68 ],\n",
              "       [ 60.89 , 164.175],\n",
              "       [ 67.629, 171.506],\n",
              "       ...,\n",
              "       [ 51.971, 154.277],\n",
              "       [ 82.536, 172.26 ],\n",
              "       [ 62.409, 166.244]])"
            ]
          },
          "execution_count": 5,
          "metadata": {},
          "output_type": "execute_result"
        }
      ],
      "source": [
        "wh_test"
      ]
    },
    {
      "cell_type": "markdown",
      "metadata": {
        "id": "XTAlDwMer8e6"
      },
      "source": [
        "<span style=\"font-size: 24px;\">A. Clasificador manual</span>"
      ]
    },
    {
      "cell_type": "code",
      "execution_count": 6,
      "metadata": {
        "colab": {
          "base_uri": "https://localhost:8080/"
        },
        "id": "wMWcihc7sDmn",
        "outputId": "f094ac2d-b60d-4021-a019-45bf020f12e0"
      },
      "outputs": [
        {
          "name": "stdout",
          "output_type": "stream",
          "text": [
            "TOTAL: 8000 \n",
            "MUJERES 3998 \n",
            "HOMBRES: 4002 \n",
            "SUMA: 8000\n",
            "PRIOR HOMBRES: 0.50025 \n",
            "PRIOR MUJERES: 0.49975\n"
          ]
        }
      ],
      "source": [
        "#Calculo las priors: la probabilidad de que una persona sea hombre o mujer\n",
        "total=len(genero_train)\n",
        "cant_hombres=len(genero_train[genero_train=='Hombre'])\n",
        "cant_mujeres=len(genero_train[genero_train=='Mujer'])\n",
        "suma=cant_mujeres + cant_hombres #esto es útil para asegurarse de que no hay otro tipo de dato\n",
        "print(\"TOTAL:\", total, \"\\nMUJERES\",  cant_mujeres, \"\\nHOMBRES:\", cant_hombres, \"\\nSUMA:\", suma)\n",
        "prior_hombre=cant_hombres/total\n",
        "prior_mujer=cant_mujeres/total\n",
        "print(\"PRIOR HOMBRES:\", prior_hombre, \"\\nPRIOR MUJERES:\", prior_mujer)"
      ]
    },
    {
      "cell_type": "markdown",
      "metadata": {
        "id": "WyGH_yO9uva8"
      },
      "source": [
        "\\begin{equation}\n",
        "  P(C_{i} | w, h) = \\frac{P( w, h | C_{i})\\times P(C_{i})}{P(w,h)}\n",
        "\\end{equation}"
      ]
    },
    {
      "cell_type": "markdown",
      "metadata": {
        "id": "xMPCs8meviCN"
      },
      "source": [
        "Veo que la altura va de 140 a 200cm, y los pesos de 20 a 140kg."
      ]
    },
    {
      "cell_type": "code",
      "execution_count": 7,
      "metadata": {
        "id": "y28_SYh9s-cS"
      },
      "outputs": [],
      "source": [
        "#Propiedades para los bines\n",
        "minw=20\n",
        "maxw=130\n",
        "minh=135\n",
        "maxh=225\n",
        "cantidad_bines=100\n",
        "ancho_bines_peso=(maxw-minw)/cantidad_bines\n",
        "ancho_bines_altura=(maxh-minh)/cantidad_bines"
      ]
    },
    {
      "cell_type": "markdown",
      "metadata": {},
      "source": [
        "OPCIÓN 1: diseñamos un primer clasificador que si llega a un dato que no se puede clasificar, no lo toma en consideración"
      ]
    },
    {
      "cell_type": "code",
      "execution_count": 8,
      "metadata": {},
      "outputs": [],
      "source": [
        "#OPCIÓN 1 - Si llega a un dato que no se puede clasificar, no lo toma en consideración\n",
        "def probabilidad_wh_A(wh_vector, genero):\n",
        "  cont_wh=0\n",
        "  cont_dado_genero=0\n",
        "  if(genero=='Hombre'):\n",
        "    cant_genero=cant_hombres\n",
        "  else:\n",
        "    cant_genero=cant_mujeres\n",
        "\n",
        "  peso=wh_vector[0]\n",
        "  altura=wh_vector[1]\n",
        "\n",
        "  #identifico en qué bin está\n",
        "  binW=int((peso-minw)/ancho_bines_peso)\n",
        "  binH=int((altura-minh)/ancho_bines_altura)\n",
        "\n",
        "  infW=minw+binW*ancho_bines_peso #límite inferior de peso del bin\n",
        "  supW=minw+(binW+1)*ancho_bines_peso #límite superior de peso del bin\n",
        "  infH=minh+binH*ancho_bines_altura #límite inferior de altura del bin\n",
        "  supH=minh+(binH+1)*ancho_bines_altura #límite superior de altura del bin\n",
        "\n",
        "  #cuento cuántas muestras hay en ese bin\n",
        "  for i in range(total):\n",
        "    if (infW<= wh_train[i, 0] <supW) and (infH<= wh_train[i,1] <supH):\n",
        "      cont_wh+=1\n",
        "      if (genero_train[i]==genero):\n",
        "        cont_dado_genero+=1\n",
        "\n",
        "  if cont_wh==0:\n",
        "    clasificado=False\n",
        "    proba=0\n",
        "    likelihood=0\n",
        "  else:\n",
        "      clasificado=True\n",
        "      proba=cont_wh/total\n",
        "      likelihood=cont_dado_genero/cant_genero\n",
        "  \n",
        "  return proba, likelihood, clasificado"
      ]
    },
    {
      "cell_type": "code",
      "execution_count": 9,
      "metadata": {},
      "outputs": [],
      "source": [
        "def clasificador_manual_A(wh_vector, genero_vector):\n",
        "    cant_noClasificados=0\n",
        "    prediccion=[] #en este vector guardo los resultados de la predicción\n",
        "\n",
        "    #Recorre todos los elementos del array y los clasifica \n",
        "    for i in range(len(genero_vector)):\n",
        "        #print(\"Evalúo el elemento \",i, \"---PESO=\", peso_train[i], \"---ALTURA=\", altura_train[i])\n",
        "        proba_wh, likelihood_hombre,clasificado= probabilidad_wh_A(wh_vector[i], 'Hombre')\n",
        "\n",
        "        if clasificado==True:\n",
        "            #Calculo, por medio del teorema de Bayes, la probabilidad de que sea hombre\n",
        "            hombre_dado_wh= (likelihood_hombre * prior_hombre)/proba_wh\n",
        "            if(hombre_dado_wh>0.5):\n",
        "                prediccion.append(1) #de esta forma, HOMBRE=1 MUJER=0\n",
        "            else:\n",
        "                prediccion.append(0)\n",
        "        if clasificado==False:\n",
        "            cant_noClasificados+=1\n",
        "            print(\"La muestra \", i, \"no se pudo clasificar\")\n",
        "    \n",
        "    print(\"\\n\\nHUBO \", cant_noClasificados, \" ELEMENTOS QUE NO PUDIERON SER CLASIFICADOS\")\n",
        "    #una vez que termina, convierto la lista con las predicciones en array\n",
        "    prediccion=np.array(prediccion)\n",
        "\n",
        "    return prediccion"
      ]
    },
    {
      "cell_type": "markdown",
      "metadata": {},
      "source": [
        "OPCIÓN 2: En este segundo clasificador, si hay un dato que no puede ser clasificado, se compara esa muestra con los bins de alrededor del bin que le corresponde. Se ampliará el área de comparación hasta que la muestra pueda ser clasificada."
      ]
    },
    {
      "cell_type": "code",
      "execution_count": 13,
      "metadata": {
        "id": "llOjkvbi4c6G"
      },
      "outputs": [],
      "source": [
        "def probabilidad_wh_B(wh_vector, genero, indice):\n",
        "  cont_wh=0\n",
        "  k=-1\n",
        "  cont_dado_genero=0\n",
        "  if(genero=='Hombre'):\n",
        "    cant_genero=cant_hombres\n",
        "  else:\n",
        "    cant_genero=cant_mujeres\n",
        "\n",
        "  peso=wh_vector[0]\n",
        "  altura=wh_vector[1]\n",
        "  #identifico en qué bin está\n",
        "  binW=int((peso-minw)/ancho_bines_peso)\n",
        "  binH=int((altura-minh)/ancho_bines_altura)\n",
        "\n",
        "  while(cont_wh==0): #Si encontró al menos un elemento en el mismo bin, sigue. Sino, se aplía el bin y se vuelve a hacer la búsqueda.\n",
        "    k+=1\n",
        "    infW=minw+(binW-k)*ancho_bines_peso #límite inferior de peso del bin\n",
        "    supW=minw+(binW+1+k)*ancho_bines_peso #límite superior de peso del bin\n",
        "    infH=minh+(binH-k)*ancho_bines_altura #límite inferior de altura del bin\n",
        "    supH=minh+(binH+1+k)*ancho_bines_altura #límite superior de altura del bin\n",
        "\n",
        "    #cuento cuántas muestras hay en ese bin\n",
        "    for i in range(total):\n",
        "      if (infW<= wh_train[i, 0] <supW) and (infH<= wh_train[i,1] <supH):\n",
        "        cont_wh+=1\n",
        "        if (genero_train[i]==genero):\n",
        "          cont_dado_genero+=1\n",
        "  \n",
        "  if k!=0:\n",
        "    print(\"Para la muestra \", indice, \"Se amplió \", k, \"veces el espacio de comparación\")\n",
        "\n",
        "  proba=cont_wh/total\n",
        "  likelihood=cont_dado_genero/cant_genero\n",
        "\n",
        "  return proba, likelihood"
      ]
    },
    {
      "cell_type": "code",
      "execution_count": 16,
      "metadata": {},
      "outputs": [],
      "source": [
        "def clasificador_manual_B(wh_vector, genero_vector):\n",
        "    prediccion=np.zeros(len(genero_vector)) #en este vector guardo los resultados de la predicción\n",
        "\n",
        "    #Recorre todos los elementos del array y los clasifica \n",
        "    for i in range(len(genero_vector)):\n",
        "        #print(\"Evalúo el elemento \",i, \"---PESO=\", peso_train[i], \"---ALTURA=\", altura_train[i])\n",
        "        proba_wh, likelihood_hombre= probabilidad_wh_B(wh_vector[i], 'Hombre', i)\n",
        "        hombre_dado_wh= (likelihood_hombre * prior_hombre)/proba_wh\n",
        "        if(hombre_dado_wh>0.5):\n",
        "            prediccion[i]=1 \n",
        "\n",
        "    return prediccion"
      ]
    },
    {
      "cell_type": "markdown",
      "metadata": {
        "id": "H0MTX77IhNpA"
      },
      "source": [
        "<span style=\"font-size: 20px;\"> A.1. Imágenes de entrenamiento </span>"
      ]
    },
    {
      "cell_type": "code",
      "execution_count": 10,
      "metadata": {},
      "outputs": [
        {
          "name": "stdout",
          "output_type": "stream",
          "text": [
            "\n",
            "\n",
            "HUBO  0  ELEMENTOS QUE NO PUDIERON SER CLASIFICADOS\n"
          ]
        }
      ],
      "source": [
        "#con la primera opción\n",
        "prediccion_manual_train_A=clasificador_manual_A(wh_train, genero_train)"
      ]
    },
    {
      "cell_type": "code",
      "execution_count": 17,
      "metadata": {},
      "outputs": [],
      "source": [
        "prediccion_manual_train_B=clasificador_manual_B(wh_train, genero_train)"
      ]
    },
    {
      "cell_type": "markdown",
      "metadata": {
        "id": "VDSvmuUJr5yO"
      },
      "source": [
        "<span style=\"font-size: 20px;\"> A. 2. Imágenes de testeo </span>"
      ]
    },
    {
      "cell_type": "code",
      "execution_count": 105,
      "metadata": {},
      "outputs": [
        {
          "name": "stdout",
          "output_type": "stream",
          "text": [
            "La muestra  49 no se pudo clasificar\n",
            "La muestra  123 no se pudo clasificar\n",
            "La muestra  133 no se pudo clasificar\n",
            "La muestra  256 no se pudo clasificar\n",
            "La muestra  259 no se pudo clasificar\n",
            "La muestra  369 no se pudo clasificar\n",
            "La muestra  372 no se pudo clasificar\n",
            "La muestra  375 no se pudo clasificar\n",
            "La muestra  376 no se pudo clasificar\n",
            "La muestra  383 no se pudo clasificar\n",
            "La muestra  526 no se pudo clasificar\n",
            "La muestra  534 no se pudo clasificar\n",
            "La muestra  570 no se pudo clasificar\n",
            "La muestra  582 no se pudo clasificar\n",
            "La muestra  626 no se pudo clasificar\n",
            "La muestra  635 no se pudo clasificar\n",
            "La muestra  644 no se pudo clasificar\n",
            "La muestra  710 no se pudo clasificar\n",
            "La muestra  730 no se pudo clasificar\n",
            "La muestra  746 no se pudo clasificar\n",
            "La muestra  789 no se pudo clasificar\n",
            "La muestra  792 no se pudo clasificar\n",
            "La muestra  844 no se pudo clasificar\n",
            "La muestra  849 no se pudo clasificar\n",
            "La muestra  925 no se pudo clasificar\n",
            "La muestra  1026 no se pudo clasificar\n",
            "La muestra  1040 no se pudo clasificar\n",
            "La muestra  1044 no se pudo clasificar\n",
            "La muestra  1053 no se pudo clasificar\n",
            "La muestra  1071 no se pudo clasificar\n",
            "La muestra  1085 no se pudo clasificar\n",
            "La muestra  1093 no se pudo clasificar\n",
            "La muestra  1106 no se pudo clasificar\n",
            "La muestra  1110 no se pudo clasificar\n",
            "La muestra  1125 no se pudo clasificar\n",
            "La muestra  1160 no se pudo clasificar\n",
            "La muestra  1172 no se pudo clasificar\n",
            "La muestra  1236 no se pudo clasificar\n",
            "La muestra  1240 no se pudo clasificar\n",
            "La muestra  1243 no se pudo clasificar\n",
            "La muestra  1257 no se pudo clasificar\n",
            "La muestra  1259 no se pudo clasificar\n",
            "La muestra  1296 no se pudo clasificar\n",
            "La muestra  1317 no se pudo clasificar\n",
            "La muestra  1333 no se pudo clasificar\n",
            "La muestra  1346 no se pudo clasificar\n",
            "La muestra  1349 no se pudo clasificar\n",
            "La muestra  1357 no se pudo clasificar\n",
            "La muestra  1442 no se pudo clasificar\n",
            "La muestra  1448 no se pudo clasificar\n",
            "La muestra  1476 no se pudo clasificar\n",
            "La muestra  1520 no se pudo clasificar\n",
            "La muestra  1536 no se pudo clasificar\n",
            "La muestra  1569 no se pudo clasificar\n",
            "La muestra  1574 no se pudo clasificar\n",
            "La muestra  1595 no se pudo clasificar\n",
            "La muestra  1620 no se pudo clasificar\n",
            "La muestra  1622 no se pudo clasificar\n",
            "La muestra  1640 no se pudo clasificar\n",
            "La muestra  1707 no se pudo clasificar\n",
            "La muestra  1748 no se pudo clasificar\n",
            "La muestra  1782 no se pudo clasificar\n",
            "La muestra  1817 no se pudo clasificar\n",
            "La muestra  1869 no se pudo clasificar\n",
            "La muestra  1937 no se pudo clasificar\n",
            "La muestra  1978 no se pudo clasificar\n",
            "\n",
            "\n",
            "HUBO  66  ELEMENTOS QUE NO PUDIERON SER CLASIFICADOS\n"
          ]
        }
      ],
      "source": [
        "prediccion_manual_test_A=clasificador_manual_A(wh_test, genero_test)"
      ]
    },
    {
      "cell_type": "code",
      "execution_count": 18,
      "metadata": {},
      "outputs": [
        {
          "name": "stdout",
          "output_type": "stream",
          "text": [
            "Para la muestra  49 Se amplió  1 veces el espacio de comparación\n",
            "Para la muestra  123 Se amplió  3 veces el espacio de comparación\n",
            "Para la muestra  133 Se amplió  1 veces el espacio de comparación\n",
            "Para la muestra  256 Se amplió  1 veces el espacio de comparación\n",
            "Para la muestra  259 Se amplió  1 veces el espacio de comparación\n",
            "Para la muestra  369 Se amplió  1 veces el espacio de comparación\n",
            "Para la muestra  372 Se amplió  1 veces el espacio de comparación\n",
            "Para la muestra  375 Se amplió  1 veces el espacio de comparación\n",
            "Para la muestra  376 Se amplió  1 veces el espacio de comparación\n",
            "Para la muestra  383 Se amplió  1 veces el espacio de comparación\n",
            "Para la muestra  526 Se amplió  1 veces el espacio de comparación\n",
            "Para la muestra  534 Se amplió  4 veces el espacio de comparación\n",
            "Para la muestra  570 Se amplió  1 veces el espacio de comparación\n",
            "Para la muestra  582 Se amplió  1 veces el espacio de comparación\n",
            "Para la muestra  626 Se amplió  1 veces el espacio de comparación\n",
            "Para la muestra  635 Se amplió  1 veces el espacio de comparación\n",
            "Para la muestra  644 Se amplió  1 veces el espacio de comparación\n",
            "Para la muestra  710 Se amplió  1 veces el espacio de comparación\n",
            "Para la muestra  730 Se amplió  2 veces el espacio de comparación\n",
            "Para la muestra  746 Se amplió  1 veces el espacio de comparación\n",
            "Para la muestra  789 Se amplió  1 veces el espacio de comparación\n",
            "Para la muestra  792 Se amplió  1 veces el espacio de comparación\n",
            "Para la muestra  844 Se amplió  1 veces el espacio de comparación\n",
            "Para la muestra  849 Se amplió  1 veces el espacio de comparación\n",
            "Para la muestra  925 Se amplió  1 veces el espacio de comparación\n",
            "Para la muestra  1026 Se amplió  1 veces el espacio de comparación\n",
            "Para la muestra  1040 Se amplió  2 veces el espacio de comparación\n",
            "Para la muestra  1044 Se amplió  1 veces el espacio de comparación\n",
            "Para la muestra  1053 Se amplió  2 veces el espacio de comparación\n",
            "Para la muestra  1071 Se amplió  2 veces el espacio de comparación\n",
            "Para la muestra  1085 Se amplió  2 veces el espacio de comparación\n",
            "Para la muestra  1093 Se amplió  1 veces el espacio de comparación\n",
            "Para la muestra  1106 Se amplió  1 veces el espacio de comparación\n",
            "Para la muestra  1110 Se amplió  1 veces el espacio de comparación\n",
            "Para la muestra  1125 Se amplió  1 veces el espacio de comparación\n",
            "Para la muestra  1160 Se amplió  1 veces el espacio de comparación\n",
            "Para la muestra  1172 Se amplió  1 veces el espacio de comparación\n",
            "Para la muestra  1236 Se amplió  1 veces el espacio de comparación\n",
            "Para la muestra  1240 Se amplió  1 veces el espacio de comparación\n",
            "Para la muestra  1243 Se amplió  1 veces el espacio de comparación\n",
            "Para la muestra  1257 Se amplió  1 veces el espacio de comparación\n",
            "Para la muestra  1259 Se amplió  3 veces el espacio de comparación\n",
            "Para la muestra  1296 Se amplió  1 veces el espacio de comparación\n",
            "Para la muestra  1317 Se amplió  1 veces el espacio de comparación\n",
            "Para la muestra  1333 Se amplió  1 veces el espacio de comparación\n",
            "Para la muestra  1346 Se amplió  2 veces el espacio de comparación\n",
            "Para la muestra  1349 Se amplió  1 veces el espacio de comparación\n",
            "Para la muestra  1357 Se amplió  1 veces el espacio de comparación\n",
            "Para la muestra  1442 Se amplió  1 veces el espacio de comparación\n",
            "Para la muestra  1448 Se amplió  1 veces el espacio de comparación\n",
            "Para la muestra  1476 Se amplió  1 veces el espacio de comparación\n",
            "Para la muestra  1520 Se amplió  2 veces el espacio de comparación\n",
            "Para la muestra  1536 Se amplió  1 veces el espacio de comparación\n",
            "Para la muestra  1569 Se amplió  1 veces el espacio de comparación\n",
            "Para la muestra  1574 Se amplió  1 veces el espacio de comparación\n",
            "Para la muestra  1595 Se amplió  1 veces el espacio de comparación\n",
            "Para la muestra  1620 Se amplió  1 veces el espacio de comparación\n",
            "Para la muestra  1622 Se amplió  1 veces el espacio de comparación\n",
            "Para la muestra  1640 Se amplió  1 veces el espacio de comparación\n",
            "Para la muestra  1707 Se amplió  1 veces el espacio de comparación\n",
            "Para la muestra  1748 Se amplió  1 veces el espacio de comparación\n",
            "Para la muestra  1782 Se amplió  1 veces el espacio de comparación\n",
            "Para la muestra  1817 Se amplió  3 veces el espacio de comparación\n",
            "Para la muestra  1869 Se amplió  1 veces el espacio de comparación\n",
            "Para la muestra  1937 Se amplió  1 veces el espacio de comparación\n",
            "Para la muestra  1978 Se amplió  1 veces el espacio de comparación\n"
          ]
        }
      ],
      "source": [
        "prediccion_manual_test_B=clasificador_manual_B(wh_test, genero_test)"
      ]
    },
    {
      "cell_type": "markdown",
      "metadata": {},
      "source": [
        "<span style=\"font-size: 20px;\"> A. 3. Métricas </span>"
      ]
    },
    {
      "cell_type": "code",
      "execution_count": 22,
      "metadata": {},
      "outputs": [],
      "source": [
        "def binarizar_genero(vector):\n",
        "    binarizado=np.zeros(len(vector))\n",
        "    for i in range(len(vector)):\n",
        "        if (vector[i]=='Hombre'):\n",
        "            binarizado[i]=1\n",
        "    return binarizado"
      ]
    },
    {
      "cell_type": "code",
      "execution_count": 23,
      "metadata": {
        "id": "G0Y0Nw1ip0GK"
      },
      "outputs": [],
      "source": [
        "#Paso los valores reales a números\n",
        "genero_train_binario=binarizar_genero(genero_train)\n",
        "genero_test_binario=binarizar_genero(genero_test)"
      ]
    },
    {
      "cell_type": "code",
      "execution_count": 21,
      "metadata": {
        "id": "X6I0rdspq0X1"
      },
      "outputs": [],
      "source": [
        "etiquetas=['Hombre', 'Mujer']"
      ]
    },
    {
      "cell_type": "markdown",
      "metadata": {},
      "source": [
        "Diseñamos nuestra propiafunción para calcular el accuracy, según la ecuación: \n",
        "\n",
        "\\begin{equation}\n",
        " \\frac{TP +TN}{TP + TN + FP + FN}\n",
        "\\end{equation}\n",
        "\n"
      ]
    },
    {
      "cell_type": "code",
      "execution_count": 70,
      "metadata": {},
      "outputs": [],
      "source": [
        "def accuracy_manual(prediccion, vector_real):\n",
        "    TP=0 #que prediga que es hombre (1) y realmente lo sea\n",
        "    TN=0 #que prediga que es mujer (0) y realmente lo sea \n",
        "\n",
        "    FN=0 #que prediga que es mujer (0) y en realidad es hombre (1)\n",
        "    FP=0 #que prediga que es hombre (1) y en realidad es muje (0)\n",
        "    for i in range(len(vector_real)):\n",
        "        if (prediccion[i]==1 and vector_real[i]==1):\n",
        "            TP+=1\n",
        "        if (prediccion[i]==0 and vector_real[i]==0):\n",
        "            TN+=1\n",
        "    accuracy=(TP + TN)/(len(vector_real))\n",
        "    return accuracy "
      ]
    },
    {
      "cell_type": "code",
      "execution_count": 71,
      "metadata": {},
      "outputs": [
        {
          "name": "stdout",
          "output_type": "stream",
          "text": [
            "ACCURACY DEL MODELO HECHO MANUALMENTE\n",
            "\tConjunto de entrenamiento:  0.92375 \n",
            "\tConjunto de testeo:  0.9125\n"
          ]
        }
      ],
      "source": [
        "accuracy_manual_train=accuracy_manual(prediccion_manual_train_B, genero_train_binario)\n",
        "accuracy_manual_test=accuracy_manual(prediccion_manual_test_B, genero_test_binario)\n",
        "print(\"ACCURACY DEL MODELO HECHO MANUALMENTE\")\n",
        "print(\"\\tConjunto de entrenamiento: \", accuracy_manual_train, \"\\n\\tConjunto de testeo: \", accuracy_manual_test)"
      ]
    },
    {
      "cell_type": "code",
      "execution_count": null,
      "metadata": {
        "id": "ngmLbDOEpLwr"
      },
      "outputs": [],
      "source": [
        "from sklearn.metrics import confusion_matrix, ConfusionMatrixDisplay\n",
        "import seaborn as sns"
      ]
    },
    {
      "cell_type": "code",
      "execution_count": 39,
      "metadata": {},
      "outputs": [],
      "source": [
        "cm_manual_train=confusion_matrix(genero_train_binario, prediccion_manual_train_B)\n",
        "cm_manual_test=confusion_matrix(genero_test_binario, prediccion_manual_test_B)"
      ]
    },
    {
      "cell_type": "code",
      "execution_count": 65,
      "metadata": {},
      "outputs": [
        {
          "data": {
            "image/png": "[encoded data removed]",
            "text/plain": [
              "<Figure size 1500x500 with 4 Axes>"
            ]
          },
          "metadata": {},
          "output_type": "display_data"
        }
      ],
      "source": [
        "fig, ax = plt.subplots(1, 2, figsize=(15,5))\n",
        "fig.suptitle('Resultados con clasificador hecho \"a mano\"')\n",
        "\n",
        "sns.heatmap(cm_manual_train, annot=True, fmt=\"d\", cmap=\"Blues\", ax=ax[0],  xticklabels= etiquetas, yticklabels= etiquetas)\n",
        "ax[0].set_title(\"Entrenamiento\")\n",
        "ax[0].set_xlabel(\"Predicción\")\n",
        "ax[0].set_ylabel(\"Real\")\n",
        "\n",
        "sns.heatmap(cm_manual_test, annot=True, fmt=\"d\", cmap=\"Oranges\", ax=ax[1], xticklabels= etiquetas, yticklabels= etiquetas)\n",
        "ax[1].set_title(\"Testeo\")\n",
        "ax[1].set_xlabel(\"Predicción\")\n",
        "ax[1].set_ylabel(\"Real\")\n",
        "plt.show()"
      ]
    },
    {
      "cell_type": "markdown",
      "metadata": {
        "id": "DE1tPGg5l0bJ"
      },
      "source": [
        "<span style=\"font-size: 24px;\"> B. Clasificador de SciKit-Learn </span>"
      ]
    },
    {
      "cell_type": "code",
      "execution_count": 44,
      "metadata": {
        "id": "92OnaI_hl60o"
      },
      "outputs": [],
      "source": [
        "from sklearn.naive_bayes import GaussianNB"
      ]
    },
    {
      "cell_type": "code",
      "execution_count": 46,
      "metadata": {},
      "outputs": [
        {
          "data": {
            "text/html": [
              "<style>#sk-container-id-1 {\n",
              "  /* Definition of color scheme common for light and dark mode */\n",
              "  --sklearn-color-text: #000;\n",
              "  --sklearn-color-text-muted: #666;\n",
              "  --sklearn-color-line: gray;\n",
              "  /* Definition of color scheme for unfitted estimators */\n",
              "  --sklearn-color-unfitted-level-0: #fff5e6;\n",
              "  --sklearn-color-unfitted-level-1: #f6e4d2;\n",
              "  --sklearn-color-unfitted-level-2: #ffe0b3;\n",
              "  --sklearn-color-unfitted-level-3: chocolate;\n",
              "  /* Definition of color scheme for fitted estimators */\n",
              "  --sklearn-color-fitted-level-0: #f0f8ff;\n",
              "  --sklearn-color-fitted-level-1: #d4ebff;\n",
              "  --sklearn-color-fitted-level-2: #b3dbfd;\n",
              "  --sklearn-color-fitted-level-3: cornflowerblue;\n",
              "\n",
              "  /* Specific color for light theme */\n",
              "  --sklearn-color-text-on-default-background: var(--sg-text-color, var(--theme-code-foreground, var(--jp-content-font-color1, black)));\n",
              "  --sklearn-color-background: var(--sg-background-color, var(--theme-background, var(--jp-layout-color0, white)));\n",
              "  --sklearn-color-border-box: var(--sg-text-color, var(--theme-code-foreground, var(--jp-content-font-color1, black)));\n",
              "  --sklearn-color-icon: #696969;\n",
              "\n",
              "  @media (prefers-color-scheme: dark) {\n",
              "    /* Redefinition of color scheme for dark theme */\n",
              "    --sklearn-color-text-on-default-background: var(--sg-text-color, var(--theme-code-foreground, var(--jp-content-font-color1, white)));\n",
              "    --sklearn-color-background: var(--sg-background-color, var(--theme-background, var(--jp-layout-color0, #111)));\n",
              "    --sklearn-color-border-box: var(--sg-text-color, var(--theme-code-foreground, var(--jp-content-font-color1, white)));\n",
              "    --sklearn-color-icon: #878787;\n",
              "  }\n",
              "}\n",
              "\n",
              "#sk-container-id-1 {\n",
              "  color: var(--sklearn-color-text);\n",
              "}\n",
              "\n",
              "#sk-container-id-1 pre {\n",
              "  padding: 0;\n",
              "}\n",
              "\n",
              "#sk-container-id-1 input.sk-hidden--visually {\n",
              "  border: 0;\n",
              "  clip: rect(1px 1px 1px 1px);\n",
              "  clip: rect(1px, 1px, 1px, 1px);\n",
              "  height: 1px;\n",
              "  margin: -1px;\n",
              "  overflow: hidden;\n",
              "  padding: 0;\n",
              "  position: absolute;\n",
              "  width: 1px;\n",
              "}\n",
              "\n",
              "#sk-container-id-1 div.sk-dashed-wrapped {\n",
              "  border: 1px dashed var(--sklearn-color-line);\n",
              "  margin: 0 0.4em 0.5em 0.4em;\n",
              "  box-sizing: border-box;\n",
              "  padding-bottom: 0.4em;\n",
              "  background-color: var(--sklearn-color-background);\n",
              "}\n",
              "\n",
              "#sk-container-id-1 div.sk-container {\n",
              "  /* jupyter's `normalize.less` sets `[hidden] { display: none; }`\n",
              "     but bootstrap.min.css set `[hidden] { display: none !important; }`\n",
              "     so we also need the `!important` here to be able to override the\n",
              "     default hidden behavior on the sphinx rendered scikit-learn.org.\n",
              "     See: https://github.com/scikit-learn/scikit-learn/issues/21755 */\n",
              "  display: inline-block !important;\n",
              "  position: relative;\n",
              "}\n",
              "\n",
              "#sk-container-id-1 div.sk-text-repr-fallback {\n",
              "  display: none;\n",
              "}\n",
              "\n",
              "div.sk-parallel-item,\n",
              "div.sk-serial,\n",
              "div.sk-item {\n",
              "  /* draw centered vertical line to link estimators */\n",
              "  background-image: linear-gradient(var(--sklearn-color-text-on-default-background), var(--sklearn-color-text-on-default-background));\n",
              "  background-size: 2px 100%;\n",
              "  background-repeat: no-repeat;\n",
              "  background-position: center center;\n",
              "}\n",
              "\n",
              "/* Parallel-specific style estimator block */\n",
              "\n",
              "#sk-container-id-1 div.sk-parallel-item::after {\n",
              "  content: \"\";\n",
              "  width: 100%;\n",
              "  border-bottom: 2px solid var(--sklearn-color-text-on-default-background);\n",
              "  flex-grow: 1;\n",
              "}\n",
              "\n",
              "#sk-container-id-1 div.sk-parallel {\n",
              "  display: flex;\n",
              "  align-items: stretch;\n",
              "  justify-content: center;\n",
              "  background-color: var(--sklearn-color-background);\n",
              "  position: relative;\n",
              "}\n",
              "\n",
              "#sk-container-id-1 div.sk-parallel-item {\n",
              "  display: flex;\n",
              "  flex-direction: column;\n",
              "}\n",
              "\n",
              "#sk-container-id-1 div.sk-parallel-item:first-child::after {\n",
              "  align-self: flex-end;\n",
              "  width: 50%;\n",
              "}\n",
              "\n",
              "#sk-container-id-1 div.sk-parallel-item:last-child::after {\n",
              "  align-self: flex-start;\n",
              "  width: 50%;\n",
              "}\n",
              "\n",
              "#sk-container-id-1 div.sk-parallel-item:only-child::after {\n",
              "  width: 0;\n",
              "}\n",
              "\n",
              "/* Serial-specific style estimator block */\n",
              "\n",
              "#sk-container-id-1 div.sk-serial {\n",
              "  display: flex;\n",
              "  flex-direction: column;\n",
              "  align-items: center;\n",
              "  background-color: var(--sklearn-color-background);\n",
              "  padding-right: 1em;\n",
              "  padding-left: 1em;\n",
              "}\n",
              "\n",
              "\n",
              "/* Toggleable style: style used for estimator/Pipeline/ColumnTransformer box that is\n",
              "clickable and can be expanded/collapsed.\n",
              "- Pipeline and ColumnTransformer use this feature and define the default style\n",
              "- Estimators will overwrite some part of the style using the `sk-estimator` class\n",
              "*/\n",
              "\n",
              "/* Pipeline and ColumnTransformer style (default) */\n",
              "\n",
              "#sk-container-id-1 div.sk-toggleable {\n",
              "  /* Default theme specific background. It is overwritten whether we have a\n",
              "  specific estimator or a Pipeline/ColumnTransformer */\n",
              "  background-color: var(--sklearn-color-background);\n",
              "}\n",
              "\n",
              "/* Toggleable label */\n",
              "#sk-container-id-1 label.sk-toggleable__label {\n",
              "  cursor: pointer;\n",
              "  display: flex;\n",
              "  width: 100%;\n",
              "  margin-bottom: 0;\n",
              "  padding: 0.5em;\n",
              "  box-sizing: border-box;\n",
              "  text-align: center;\n",
              "  align-items: start;\n",
              "  justify-content: space-between;\n",
              "  gap: 0.5em;\n",
              "}\n",
              "\n",
              "#sk-container-id-1 label.sk-toggleable__label .caption {\n",
              "  font-size: 0.6rem;\n",
              "  font-weight: lighter;\n",
              "  color: var(--sklearn-color-text-muted);\n",
              "}\n",
              "\n",
              "#sk-container-id-1 label.sk-toggleable__label-arrow:before {\n",
              "  /* Arrow on the left of the label */\n",
              "  content: \"▸\";\n",
              "  float: left;\n",
              "  margin-right: 0.25em;\n",
              "  color: var(--sklearn-color-icon);\n",
              "}\n",
              "\n",
              "#sk-container-id-1 label.sk-toggleable__label-arrow:hover:before {\n",
              "  color: var(--sklearn-color-text);\n",
              "}\n",
              "\n",
              "/* Toggleable content - dropdown */\n",
              "\n",
              "#sk-container-id-1 div.sk-toggleable__content {\n",
              "  max-height: 0;\n",
              "  max-width: 0;\n",
              "  overflow: hidden;\n",
              "  text-align: left;\n",
              "  /* unfitted */\n",
              "  background-color: var(--sklearn-color-unfitted-level-0);\n",
              "}\n",
              "\n",
              "#sk-container-id-1 div.sk-toggleable__content.fitted {\n",
              "  /* fitted */\n",
              "  background-color: var(--sklearn-color-fitted-level-0);\n",
              "}\n",
              "\n",
              "#sk-container-id-1 div.sk-toggleable__content pre {\n",
              "  margin: 0.2em;\n",
              "  border-radius: 0.25em;\n",
              "  color: var(--sklearn-color-text);\n",
              "  /* unfitted */\n",
              "  background-color: var(--sklearn-color-unfitted-level-0);\n",
              "}\n",
              "\n",
              "#sk-container-id-1 div.sk-toggleable__content.fitted pre {\n",
              "  /* unfitted */\n",
              "  background-color: var(--sklearn-color-fitted-level-0);\n",
              "}\n",
              "\n",
              "#sk-container-id-1 input.sk-toggleable__control:checked~div.sk-toggleable__content {\n",
              "  /* Expand drop-down */\n",
              "  max-height: 200px;\n",
              "  max-width: 100%;\n",
              "  overflow: auto;\n",
              "}\n",
              "\n",
              "#sk-container-id-1 input.sk-toggleable__control:checked~label.sk-toggleable__label-arrow:before {\n",
              "  content: \"▾\";\n",
              "}\n",
              "\n",
              "/* Pipeline/ColumnTransformer-specific style */\n",
              "\n",
              "#sk-container-id-1 div.sk-label input.sk-toggleable__control:checked~label.sk-toggleable__label {\n",
              "  color: var(--sklearn-color-text);\n",
              "  background-color: var(--sklearn-color-unfitted-level-2);\n",
              "}\n",
              "\n",
              "#sk-container-id-1 div.sk-label.fitted input.sk-toggleable__control:checked~label.sk-toggleable__label {\n",
              "  background-color: var(--sklearn-color-fitted-level-2);\n",
              "}\n",
              "\n",
              "/* Estimator-specific style */\n",
              "\n",
              "/* Colorize estimator box */\n",
              "#sk-container-id-1 div.sk-estimator input.sk-toggleable__control:checked~label.sk-toggleable__label {\n",
              "  /* unfitted */\n",
              "  background-color: var(--sklearn-color-unfitted-level-2);\n",
              "}\n",
              "\n",
              "#sk-container-id-1 div.sk-estimator.fitted input.sk-toggleable__control:checked~label.sk-toggleable__label {\n",
              "  /* fitted */\n",
              "  background-color: var(--sklearn-color-fitted-level-2);\n",
              "}\n",
              "\n",
              "#sk-container-id-1 div.sk-label label.sk-toggleable__label,\n",
              "#sk-container-id-1 div.sk-label label {\n",
              "  /* The background is the default theme color */\n",
              "  color: var(--sklearn-color-text-on-default-background);\n",
              "}\n",
              "\n",
              "/* On hover, darken the color of the background */\n",
              "#sk-container-id-1 div.sk-label:hover label.sk-toggleable__label {\n",
              "  color: var(--sklearn-color-text);\n",
              "  background-color: var(--sklearn-color-unfitted-level-2);\n",
              "}\n",
              "\n",
              "/* Label box, darken color on hover, fitted */\n",
              "#sk-container-id-1 div.sk-label.fitted:hover label.sk-toggleable__label.fitted {\n",
              "  color: var(--sklearn-color-text);\n",
              "  background-color: var(--sklearn-color-fitted-level-2);\n",
              "}\n",
              "\n",
              "/* Estimator label */\n",
              "\n",
              "#sk-container-id-1 div.sk-label label {\n",
              "  font-family: monospace;\n",
              "  font-weight: bold;\n",
              "  display: inline-block;\n",
              "  line-height: 1.2em;\n",
              "}\n",
              "\n",
              "#sk-container-id-1 div.sk-label-container {\n",
              "  text-align: center;\n",
              "}\n",
              "\n",
              "/* Estimator-specific */\n",
              "#sk-container-id-1 div.sk-estimator {\n",
              "  font-family: monospace;\n",
              "  border: 1px dotted var(--sklearn-color-border-box);\n",
              "  border-radius: 0.25em;\n",
              "  box-sizing: border-box;\n",
              "  margin-bottom: 0.5em;\n",
              "  /* unfitted */\n",
              "  background-color: var(--sklearn-color-unfitted-level-0);\n",
              "}\n",
              "\n",
              "#sk-container-id-1 div.sk-estimator.fitted {\n",
              "  /* fitted */\n",
              "  background-color: var(--sklearn-color-fitted-level-0);\n",
              "}\n",
              "\n",
              "/* on hover */\n",
              "#sk-container-id-1 div.sk-estimator:hover {\n",
              "  /* unfitted */\n",
              "  background-color: var(--sklearn-color-unfitted-level-2);\n",
              "}\n",
              "\n",
              "#sk-container-id-1 div.sk-estimator.fitted:hover {\n",
              "  /* fitted */\n",
              "  background-color: var(--sklearn-color-fitted-level-2);\n",
              "}\n",
              "\n",
              "/* Specification for estimator info (e.g. \"i\" and \"?\") */\n",
              "\n",
              "/* Common style for \"i\" and \"?\" */\n",
              "\n",
              ".sk-estimator-doc-link,\n",
              "a:link.sk-estimator-doc-link,\n",
              "a:visited.sk-estimator-doc-link {\n",
              "  float: right;\n",
              "  font-size: smaller;\n",
              "  line-height: 1em;\n",
              "  font-family: monospace;\n",
              "  background-color: var(--sklearn-color-background);\n",
              "  border-radius: 1em;\n",
              "  height: 1em;\n",
              "  width: 1em;\n",
              "  text-decoration: none !important;\n",
              "  margin-left: 0.5em;\n",
              "  text-align: center;\n",
              "  /* unfitted */\n",
              "  border: var(--sklearn-color-unfitted-level-1) 1pt solid;\n",
              "  color: var(--sklearn-color-unfitted-level-1);\n",
              "}\n",
              "\n",
              ".sk-estimator-doc-link.fitted,\n",
              "a:link.sk-estimator-doc-link.fitted,\n",
              "a:visited.sk-estimator-doc-link.fitted {\n",
              "  /* fitted */\n",
              "  border: var(--sklearn-color-fitted-level-1) 1pt solid;\n",
              "  color: var(--sklearn-color-fitted-level-1);\n",
              "}\n",
              "\n",
              "/* On hover */\n",
              "div.sk-estimator:hover .sk-estimator-doc-link:hover,\n",
              ".sk-estimator-doc-link:hover,\n",
              "div.sk-label-container:hover .sk-estimator-doc-link:hover,\n",
              ".sk-estimator-doc-link:hover {\n",
              "  /* unfitted */\n",
              "  background-color: var(--sklearn-color-unfitted-level-3);\n",
              "  color: var(--sklearn-color-background);\n",
              "  text-decoration: none;\n",
              "}\n",
              "\n",
              "div.sk-estimator.fitted:hover .sk-estimator-doc-link.fitted:hover,\n",
              ".sk-estimator-doc-link.fitted:hover,\n",
              "div.sk-label-container:hover .sk-estimator-doc-link.fitted:hover,\n",
              ".sk-estimator-doc-link.fitted:hover {\n",
              "  /* fitted */\n",
              "  background-color: var(--sklearn-color-fitted-level-3);\n",
              "  color: var(--sklearn-color-background);\n",
              "  text-decoration: none;\n",
              "}\n",
              "\n",
              "/* Span, style for the box shown on hovering the info icon */\n",
              ".sk-estimator-doc-link span {\n",
              "  display: none;\n",
              "  z-index: 9999;\n",
              "  position: relative;\n",
              "  font-weight: normal;\n",
              "  right: .2ex;\n",
              "  padding: .5ex;\n",
              "  margin: .5ex;\n",
              "  width: min-content;\n",
              "  min-width: 20ex;\n",
              "  max-width: 50ex;\n",
              "  color: var(--sklearn-color-text);\n",
              "  box-shadow: 2pt 2pt 4pt #999;\n",
              "  /* unfitted */\n",
              "  background: var(--sklearn-color-unfitted-level-0);\n",
              "  border: .5pt solid var(--sklearn-color-unfitted-level-3);\n",
              "}\n",
              "\n",
              ".sk-estimator-doc-link.fitted span {\n",
              "  /* fitted */\n",
              "  background: var(--sklearn-color-fitted-level-0);\n",
              "  border: var(--sklearn-color-fitted-level-3);\n",
              "}\n",
              "\n",
              ".sk-estimator-doc-link:hover span {\n",
              "  display: block;\n",
              "}\n",
              "\n",
              "/* \"?\"-specific style due to the `<a>` HTML tag */\n",
              "\n",
              "#sk-container-id-1 a.estimator_doc_link {\n",
              "  float: right;\n",
              "  font-size: 1rem;\n",
              "  line-height: 1em;\n",
              "  font-family: monospace;\n",
              "  background-color: var(--sklearn-color-background);\n",
              "  border-radius: 1rem;\n",
              "  height: 1rem;\n",
              "  width: 1rem;\n",
              "  text-decoration: none;\n",
              "  /* unfitted */\n",
              "  color: var(--sklearn-color-unfitted-level-1);\n",
              "  border: var(--sklearn-color-unfitted-level-1) 1pt solid;\n",
              "}\n",
              "\n",
              "#sk-container-id-1 a.estimator_doc_link.fitted {\n",
              "  /* fitted */\n",
              "  border: var(--sklearn-color-fitted-level-1) 1pt solid;\n",
              "  color: var(--sklearn-color-fitted-level-1);\n",
              "}\n",
              "\n",
              "/* On hover */\n",
              "#sk-container-id-1 a.estimator_doc_link:hover {\n",
              "  /* unfitted */\n",
              "  background-color: var(--sklearn-color-unfitted-level-3);\n",
              "  color: var(--sklearn-color-background);\n",
              "  text-decoration: none;\n",
              "}\n",
              "\n",
              "#sk-container-id-1 a.estimator_doc_link.fitted:hover {\n",
              "  /* fitted */\n",
              "  background-color: var(--sklearn-color-fitted-level-3);\n",
              "}\n",
              "</style><div id=\"sk-container-id-1\" class=\"sk-top-container\"><div class=\"sk-text-repr-fallback\"><pre>GaussianNB()</pre><b>In a Jupyter environment, please rerun this cell to show the HTML representation or trust the notebook. <br />On GitHub, the HTML representation is unable to render, please try loading this page with nbviewer.org.</b></div><div class=\"sk-container\" hidden><div class=\"sk-item\"><div class=\"sk-estimator fitted sk-toggleable\"><input class=\"sk-toggleable__control sk-hidden--visually\" id=\"sk-estimator-id-1\" type=\"checkbox\" checked><label for=\"sk-estimator-id-1\" class=\"sk-toggleable__label fitted sk-toggleable__label-arrow\"><div><div>GaussianNB</div></div><div><a class=\"sk-estimator-doc-link fitted\" rel=\"noreferrer\" target=\"_blank\" href=\"https://scikit-learn.org/1.6/modules/generated/sklearn.naive_bayes.GaussianNB.html\">?<span>Documentation for GaussianNB</span></a><span class=\"sk-estimator-doc-link fitted\">i<span>Fitted</span></span></div></label><div class=\"sk-toggleable__content fitted\"><pre>GaussianNB()</pre></div> </div></div></div></div>"
            ],
            "text/plain": [
              "GaussianNB()"
            ]
          },
          "execution_count": 46,
          "metadata": {},
          "output_type": "execute_result"
        }
      ],
      "source": [
        "clf_sklearn = GaussianNB()\n",
        "clf_sklearn.fit(wh_train, genero_train_binario)  # Entrenar el modelo\n"
      ]
    },
    {
      "cell_type": "markdown",
      "metadata": {},
      "source": [
        "<span style=\"font-size: 20px;\"> B. 1. Imágenes de entrenamiento </span>"
      ]
    },
    {
      "cell_type": "code",
      "execution_count": 47,
      "metadata": {},
      "outputs": [],
      "source": [
        "prediccion_sklearn_train = clf_sklearn.predict(wh_train)"
      ]
    },
    {
      "cell_type": "markdown",
      "metadata": {},
      "source": [
        "<span style=\"font-size: 20px;\"> B. 2. Imágenes de testeo </span>"
      ]
    },
    {
      "cell_type": "code",
      "execution_count": 48,
      "metadata": {},
      "outputs": [],
      "source": [
        "prediccion_sklearn_test = clf_sklearn.predict(wh_test)"
      ]
    },
    {
      "cell_type": "markdown",
      "metadata": {},
      "source": [
        "<span style=\"font-size: 20px;\"> B. 3. Métricas </span>"
      ]
    },
    {
      "cell_type": "markdown",
      "metadata": {},
      "source": [
        "Calculamos el accuracy con la función de la propia librería Scikit-Learn"
      ]
    },
    {
      "cell_type": "code",
      "execution_count": 49,
      "metadata": {},
      "outputs": [],
      "source": [
        "from sklearn.metrics import accuracy_score\n",
        "accuracy_sklearn_train = accuracy_score(genero_train_binario, prediccion_sklearn_train )\n",
        "accuracy_sklearn_test = accuracy_score(genero_test_binario, prediccion_sklearn_test)\n"
      ]
    },
    {
      "cell_type": "code",
      "execution_count": null,
      "metadata": {},
      "outputs": [
        {
          "name": "stdout",
          "output_type": "stream",
          "text": [
            "ACCURACY DEL MODELO ENTRENADO CON SCIKIT-LEARN\n",
            "\tConjunto de entrenamiento:  0.887 \n",
            "\tConjunto de testeo:  0.887\n"
          ]
        }
      ],
      "source": [
        "print(\"ACCURACY DEL MODELO ENTRENADO CON SCIKIT-LEARN\")\n",
        "print(\"\\tConjunto de entrenamiento: \", accuracy_sklearn_train, \"\\n\\tConjunto de testeo: \", accuracy_sklearn_test)"
      ]
    },
    {
      "cell_type": "markdown",
      "metadata": {},
      "source": [
        "Para dar una mayor idea sobre el desempeño del modelo, mostramos las matrices de confusión."
      ]
    },
    {
      "cell_type": "code",
      "execution_count": 50,
      "metadata": {},
      "outputs": [],
      "source": [
        "cm_sklearn_train=confusion_matrix(genero_train_binario, prediccion_sklearn_train)\n",
        "cm_sklearn_test=confusion_matrix(genero_test_binario, prediccion_sklearn_test)\n"
      ]
    },
    {
      "cell_type": "code",
      "execution_count": 66,
      "metadata": {},
      "outputs": [
        {
          "data": {
            "image/png": "[encoded data removed]",
            "text/plain": [
              "<Figure size 1500x500 with 4 Axes>"
            ]
          },
          "metadata": {},
          "output_type": "display_data"
        }
      ],
      "source": [
        "fig, ax = plt.subplots(1, 2, figsize=(15,5))\n",
        "fig.suptitle('Resultados con clasificador hecho de SciKit-Learn')\n",
        "\n",
        "sns.heatmap(cm_sklearn_train, annot=True, fmt=\"d\", cmap=\"Blues\", ax=ax[0],  xticklabels= etiquetas, yticklabels= etiquetas)\n",
        "ax[0].set_title(\"Entrenamiento\")\n",
        "ax[0].set_xlabel(\"Predicción\")\n",
        "ax[0].set_ylabel(\"Real\")\n",
        "\n",
        "sns.heatmap(cm_sklearn_test, annot=True, fmt=\"d\", cmap=\"Oranges\", ax=ax[1], xticklabels= etiquetas, yticklabels= etiquetas)\n",
        "ax[1].set_title(\"Testeo\")\n",
        "ax[1].set_xlabel(\"Predicción\")\n",
        "ax[1].set_ylabel(\"Real\")\n",
        "plt.show()"
      ]
    },
    {
      "cell_type": "markdown",
      "metadata": {},
      "source": [
        "<span style=\"font-size: 24px;\"> C. Clasificación con método de Expansión Cuadrática </span>"
      ]
    },
    {
      "cell_type": "code",
      "execution_count": 52,
      "metadata": {},
      "outputs": [],
      "source": [
        "#PREPARO EL VECTOR CON LOS DATOS\n",
        "def expandir_datos(wh_vector):\n",
        "    datos_extension=np.zeros([len(wh_vector), 5])\n",
        "    for i in range(len(wh_vector)):\n",
        "        peso=wh_train[i, 0]\n",
        "        altura=wh_train[i, 1]\n",
        "        datos_extension[i, 0]=peso\n",
        "        datos_extension[i, 1]=peso**2\n",
        "        datos_extension[i, 2]=altura\n",
        "        datos_extension[i, 3]=altura**2\n",
        "        datos_extension[i, 4]=peso*altura\n",
        "    return datos_extension"
      ]
    },
    {
      "cell_type": "code",
      "execution_count": 53,
      "metadata": {},
      "outputs": [],
      "source": [
        "datos_expansion_train= expandir_datos(wh_train)\n",
        "datos_expansion_test=expandir_datos(wh_test)"
      ]
    },
    {
      "cell_type": "code",
      "execution_count": 55,
      "metadata": {},
      "outputs": [
        {
          "data": {
            "text/html": [
              "<style>#sk-container-id-3 {\n",
              "  /* Definition of color scheme common for light and dark mode */\n",
              "  --sklearn-color-text: #000;\n",
              "  --sklearn-color-text-muted: #666;\n",
              "  --sklearn-color-line: gray;\n",
              "  /* Definition of color scheme for unfitted estimators */\n",
              "  --sklearn-color-unfitted-level-0: #fff5e6;\n",
              "  --sklearn-color-unfitted-level-1: #f6e4d2;\n",
              "  --sklearn-color-unfitted-level-2: #ffe0b3;\n",
              "  --sklearn-color-unfitted-level-3: chocolate;\n",
              "  /* Definition of color scheme for fitted estimators */\n",
              "  --sklearn-color-fitted-level-0: #f0f8ff;\n",
              "  --sklearn-color-fitted-level-1: #d4ebff;\n",
              "  --sklearn-color-fitted-level-2: #b3dbfd;\n",
              "  --sklearn-color-fitted-level-3: cornflowerblue;\n",
              "\n",
              "  /* Specific color for light theme */\n",
              "  --sklearn-color-text-on-default-background: var(--sg-text-color, var(--theme-code-foreground, var(--jp-content-font-color1, black)));\n",
              "  --sklearn-color-background: var(--sg-background-color, var(--theme-background, var(--jp-layout-color0, white)));\n",
              "  --sklearn-color-border-box: var(--sg-text-color, var(--theme-code-foreground, var(--jp-content-font-color1, black)));\n",
              "  --sklearn-color-icon: #696969;\n",
              "\n",
              "  @media (prefers-color-scheme: dark) {\n",
              "    /* Redefinition of color scheme for dark theme */\n",
              "    --sklearn-color-text-on-default-background: var(--sg-text-color, var(--theme-code-foreground, var(--jp-content-font-color1, white)));\n",
              "    --sklearn-color-background: var(--sg-background-color, var(--theme-background, var(--jp-layout-color0, #111)));\n",
              "    --sklearn-color-border-box: var(--sg-text-color, var(--theme-code-foreground, var(--jp-content-font-color1, white)));\n",
              "    --sklearn-color-icon: #878787;\n",
              "  }\n",
              "}\n",
              "\n",
              "#sk-container-id-3 {\n",
              "  color: var(--sklearn-color-text);\n",
              "}\n",
              "\n",
              "#sk-container-id-3 pre {\n",
              "  padding: 0;\n",
              "}\n",
              "\n",
              "#sk-container-id-3 input.sk-hidden--visually {\n",
              "  border: 0;\n",
              "  clip: rect(1px 1px 1px 1px);\n",
              "  clip: rect(1px, 1px, 1px, 1px);\n",
              "  height: 1px;\n",
              "  margin: -1px;\n",
              "  overflow: hidden;\n",
              "  padding: 0;\n",
              "  position: absolute;\n",
              "  width: 1px;\n",
              "}\n",
              "\n",
              "#sk-container-id-3 div.sk-dashed-wrapped {\n",
              "  border: 1px dashed var(--sklearn-color-line);\n",
              "  margin: 0 0.4em 0.5em 0.4em;\n",
              "  box-sizing: border-box;\n",
              "  padding-bottom: 0.4em;\n",
              "  background-color: var(--sklearn-color-background);\n",
              "}\n",
              "\n",
              "#sk-container-id-3 div.sk-container {\n",
              "  /* jupyter's `normalize.less` sets `[hidden] { display: none; }`\n",
              "     but bootstrap.min.css set `[hidden] { display: none !important; }`\n",
              "     so we also need the `!important` here to be able to override the\n",
              "     default hidden behavior on the sphinx rendered scikit-learn.org.\n",
              "     See: https://github.com/scikit-learn/scikit-learn/issues/21755 */\n",
              "  display: inline-block !important;\n",
              "  position: relative;\n",
              "}\n",
              "\n",
              "#sk-container-id-3 div.sk-text-repr-fallback {\n",
              "  display: none;\n",
              "}\n",
              "\n",
              "div.sk-parallel-item,\n",
              "div.sk-serial,\n",
              "div.sk-item {\n",
              "  /* draw centered vertical line to link estimators */\n",
              "  background-image: linear-gradient(var(--sklearn-color-text-on-default-background), var(--sklearn-color-text-on-default-background));\n",
              "  background-size: 2px 100%;\n",
              "  background-repeat: no-repeat;\n",
              "  background-position: center center;\n",
              "}\n",
              "\n",
              "/* Parallel-specific style estimator block */\n",
              "\n",
              "#sk-container-id-3 div.sk-parallel-item::after {\n",
              "  content: \"\";\n",
              "  width: 100%;\n",
              "  border-bottom: 2px solid var(--sklearn-color-text-on-default-background);\n",
              "  flex-grow: 1;\n",
              "}\n",
              "\n",
              "#sk-container-id-3 div.sk-parallel {\n",
              "  display: flex;\n",
              "  align-items: stretch;\n",
              "  justify-content: center;\n",
              "  background-color: var(--sklearn-color-background);\n",
              "  position: relative;\n",
              "}\n",
              "\n",
              "#sk-container-id-3 div.sk-parallel-item {\n",
              "  display: flex;\n",
              "  flex-direction: column;\n",
              "}\n",
              "\n",
              "#sk-container-id-3 div.sk-parallel-item:first-child::after {\n",
              "  align-self: flex-end;\n",
              "  width: 50%;\n",
              "}\n",
              "\n",
              "#sk-container-id-3 div.sk-parallel-item:last-child::after {\n",
              "  align-self: flex-start;\n",
              "  width: 50%;\n",
              "}\n",
              "\n",
              "#sk-container-id-3 div.sk-parallel-item:only-child::after {\n",
              "  width: 0;\n",
              "}\n",
              "\n",
              "/* Serial-specific style estimator block */\n",
              "\n",
              "#sk-container-id-3 div.sk-serial {\n",
              "  display: flex;\n",
              "  flex-direction: column;\n",
              "  align-items: center;\n",
              "  background-color: var(--sklearn-color-background);\n",
              "  padding-right: 1em;\n",
              "  padding-left: 1em;\n",
              "}\n",
              "\n",
              "\n",
              "/* Toggleable style: style used for estimator/Pipeline/ColumnTransformer box that is\n",
              "clickable and can be expanded/collapsed.\n",
              "- Pipeline and ColumnTransformer use this feature and define the default style\n",
              "- Estimators will overwrite some part of the style using the `sk-estimator` class\n",
              "*/\n",
              "\n",
              "/* Pipeline and ColumnTransformer style (default) */\n",
              "\n",
              "#sk-container-id-3 div.sk-toggleable {\n",
              "  /* Default theme specific background. It is overwritten whether we have a\n",
              "  specific estimator or a Pipeline/ColumnTransformer */\n",
              "  background-color: var(--sklearn-color-background);\n",
              "}\n",
              "\n",
              "/* Toggleable label */\n",
              "#sk-container-id-3 label.sk-toggleable__label {\n",
              "  cursor: pointer;\n",
              "  display: flex;\n",
              "  width: 100%;\n",
              "  margin-bottom: 0;\n",
              "  padding: 0.5em;\n",
              "  box-sizing: border-box;\n",
              "  text-align: center;\n",
              "  align-items: start;\n",
              "  justify-content: space-between;\n",
              "  gap: 0.5em;\n",
              "}\n",
              "\n",
              "#sk-container-id-3 label.sk-toggleable__label .caption {\n",
              "  font-size: 0.6rem;\n",
              "  font-weight: lighter;\n",
              "  color: var(--sklearn-color-text-muted);\n",
              "}\n",
              "\n",
              "#sk-container-id-3 label.sk-toggleable__label-arrow:before {\n",
              "  /* Arrow on the left of the label */\n",
              "  content: \"▸\";\n",
              "  float: left;\n",
              "  margin-right: 0.25em;\n",
              "  color: var(--sklearn-color-icon);\n",
              "}\n",
              "\n",
              "#sk-container-id-3 label.sk-toggleable__label-arrow:hover:before {\n",
              "  color: var(--sklearn-color-text);\n",
              "}\n",
              "\n",
              "/* Toggleable content - dropdown */\n",
              "\n",
              "#sk-container-id-3 div.sk-toggleable__content {\n",
              "  max-height: 0;\n",
              "  max-width: 0;\n",
              "  overflow: hidden;\n",
              "  text-align: left;\n",
              "  /* unfitted */\n",
              "  background-color: var(--sklearn-color-unfitted-level-0);\n",
              "}\n",
              "\n",
              "#sk-container-id-3 div.sk-toggleable__content.fitted {\n",
              "  /* fitted */\n",
              "  background-color: var(--sklearn-color-fitted-level-0);\n",
              "}\n",
              "\n",
              "#sk-container-id-3 div.sk-toggleable__content pre {\n",
              "  margin: 0.2em;\n",
              "  border-radius: 0.25em;\n",
              "  color: var(--sklearn-color-text);\n",
              "  /* unfitted */\n",
              "  background-color: var(--sklearn-color-unfitted-level-0);\n",
              "}\n",
              "\n",
              "#sk-container-id-3 div.sk-toggleable__content.fitted pre {\n",
              "  /* unfitted */\n",
              "  background-color: var(--sklearn-color-fitted-level-0);\n",
              "}\n",
              "\n",
              "#sk-container-id-3 input.sk-toggleable__control:checked~div.sk-toggleable__content {\n",
              "  /* Expand drop-down */\n",
              "  max-height: 200px;\n",
              "  max-width: 100%;\n",
              "  overflow: auto;\n",
              "}\n",
              "\n",
              "#sk-container-id-3 input.sk-toggleable__control:checked~label.sk-toggleable__label-arrow:before {\n",
              "  content: \"▾\";\n",
              "}\n",
              "\n",
              "/* Pipeline/ColumnTransformer-specific style */\n",
              "\n",
              "#sk-container-id-3 div.sk-label input.sk-toggleable__control:checked~label.sk-toggleable__label {\n",
              "  color: var(--sklearn-color-text);\n",
              "  background-color: var(--sklearn-color-unfitted-level-2);\n",
              "}\n",
              "\n",
              "#sk-container-id-3 div.sk-label.fitted input.sk-toggleable__control:checked~label.sk-toggleable__label {\n",
              "  background-color: var(--sklearn-color-fitted-level-2);\n",
              "}\n",
              "\n",
              "/* Estimator-specific style */\n",
              "\n",
              "/* Colorize estimator box */\n",
              "#sk-container-id-3 div.sk-estimator input.sk-toggleable__control:checked~label.sk-toggleable__label {\n",
              "  /* unfitted */\n",
              "  background-color: var(--sklearn-color-unfitted-level-2);\n",
              "}\n",
              "\n",
              "#sk-container-id-3 div.sk-estimator.fitted input.sk-toggleable__control:checked~label.sk-toggleable__label {\n",
              "  /* fitted */\n",
              "  background-color: var(--sklearn-color-fitted-level-2);\n",
              "}\n",
              "\n",
              "#sk-container-id-3 div.sk-label label.sk-toggleable__label,\n",
              "#sk-container-id-3 div.sk-label label {\n",
              "  /* The background is the default theme color */\n",
              "  color: var(--sklearn-color-text-on-default-background);\n",
              "}\n",
              "\n",
              "/* On hover, darken the color of the background */\n",
              "#sk-container-id-3 div.sk-label:hover label.sk-toggleable__label {\n",
              "  color: var(--sklearn-color-text);\n",
              "  background-color: var(--sklearn-color-unfitted-level-2);\n",
              "}\n",
              "\n",
              "/* Label box, darken color on hover, fitted */\n",
              "#sk-container-id-3 div.sk-label.fitted:hover label.sk-toggleable__label.fitted {\n",
              "  color: var(--sklearn-color-text);\n",
              "  background-color: var(--sklearn-color-fitted-level-2);\n",
              "}\n",
              "\n",
              "/* Estimator label */\n",
              "\n",
              "#sk-container-id-3 div.sk-label label {\n",
              "  font-family: monospace;\n",
              "  font-weight: bold;\n",
              "  display: inline-block;\n",
              "  line-height: 1.2em;\n",
              "}\n",
              "\n",
              "#sk-container-id-3 div.sk-label-container {\n",
              "  text-align: center;\n",
              "}\n",
              "\n",
              "/* Estimator-specific */\n",
              "#sk-container-id-3 div.sk-estimator {\n",
              "  font-family: monospace;\n",
              "  border: 1px dotted var(--sklearn-color-border-box);\n",
              "  border-radius: 0.25em;\n",
              "  box-sizing: border-box;\n",
              "  margin-bottom: 0.5em;\n",
              "  /* unfitted */\n",
              "  background-color: var(--sklearn-color-unfitted-level-0);\n",
              "}\n",
              "\n",
              "#sk-container-id-3 div.sk-estimator.fitted {\n",
              "  /* fitted */\n",
              "  background-color: var(--sklearn-color-fitted-level-0);\n",
              "}\n",
              "\n",
              "/* on hover */\n",
              "#sk-container-id-3 div.sk-estimator:hover {\n",
              "  /* unfitted */\n",
              "  background-color: var(--sklearn-color-unfitted-level-2);\n",
              "}\n",
              "\n",
              "#sk-container-id-3 div.sk-estimator.fitted:hover {\n",
              "  /* fitted */\n",
              "  background-color: var(--sklearn-color-fitted-level-2);\n",
              "}\n",
              "\n",
              "/* Specification for estimator info (e.g. \"i\" and \"?\") */\n",
              "\n",
              "/* Common style for \"i\" and \"?\" */\n",
              "\n",
              ".sk-estimator-doc-link,\n",
              "a:link.sk-estimator-doc-link,\n",
              "a:visited.sk-estimator-doc-link {\n",
              "  float: right;\n",
              "  font-size: smaller;\n",
              "  line-height: 1em;\n",
              "  font-family: monospace;\n",
              "  background-color: var(--sklearn-color-background);\n",
              "  border-radius: 1em;\n",
              "  height: 1em;\n",
              "  width: 1em;\n",
              "  text-decoration: none !important;\n",
              "  margin-left: 0.5em;\n",
              "  text-align: center;\n",
              "  /* unfitted */\n",
              "  border: var(--sklearn-color-unfitted-level-1) 1pt solid;\n",
              "  color: var(--sklearn-color-unfitted-level-1);\n",
              "}\n",
              "\n",
              ".sk-estimator-doc-link.fitted,\n",
              "a:link.sk-estimator-doc-link.fitted,\n",
              "a:visited.sk-estimator-doc-link.fitted {\n",
              "  /* fitted */\n",
              "  border: var(--sklearn-color-fitted-level-1) 1pt solid;\n",
              "  color: var(--sklearn-color-fitted-level-1);\n",
              "}\n",
              "\n",
              "/* On hover */\n",
              "div.sk-estimator:hover .sk-estimator-doc-link:hover,\n",
              ".sk-estimator-doc-link:hover,\n",
              "div.sk-label-container:hover .sk-estimator-doc-link:hover,\n",
              ".sk-estimator-doc-link:hover {\n",
              "  /* unfitted */\n",
              "  background-color: var(--sklearn-color-unfitted-level-3);\n",
              "  color: var(--sklearn-color-background);\n",
              "  text-decoration: none;\n",
              "}\n",
              "\n",
              "div.sk-estimator.fitted:hover .sk-estimator-doc-link.fitted:hover,\n",
              ".sk-estimator-doc-link.fitted:hover,\n",
              "div.sk-label-container:hover .sk-estimator-doc-link.fitted:hover,\n",
              ".sk-estimator-doc-link.fitted:hover {\n",
              "  /* fitted */\n",
              "  background-color: var(--sklearn-color-fitted-level-3);\n",
              "  color: var(--sklearn-color-background);\n",
              "  text-decoration: none;\n",
              "}\n",
              "\n",
              "/* Span, style for the box shown on hovering the info icon */\n",
              ".sk-estimator-doc-link span {\n",
              "  display: none;\n",
              "  z-index: 9999;\n",
              "  position: relative;\n",
              "  font-weight: normal;\n",
              "  right: .2ex;\n",
              "  padding: .5ex;\n",
              "  margin: .5ex;\n",
              "  width: min-content;\n",
              "  min-width: 20ex;\n",
              "  max-width: 50ex;\n",
              "  color: var(--sklearn-color-text);\n",
              "  box-shadow: 2pt 2pt 4pt #999;\n",
              "  /* unfitted */\n",
              "  background: var(--sklearn-color-unfitted-level-0);\n",
              "  border: .5pt solid var(--sklearn-color-unfitted-level-3);\n",
              "}\n",
              "\n",
              ".sk-estimator-doc-link.fitted span {\n",
              "  /* fitted */\n",
              "  background: var(--sklearn-color-fitted-level-0);\n",
              "  border: var(--sklearn-color-fitted-level-3);\n",
              "}\n",
              "\n",
              ".sk-estimator-doc-link:hover span {\n",
              "  display: block;\n",
              "}\n",
              "\n",
              "/* \"?\"-specific style due to the `<a>` HTML tag */\n",
              "\n",
              "#sk-container-id-3 a.estimator_doc_link {\n",
              "  float: right;\n",
              "  font-size: 1rem;\n",
              "  line-height: 1em;\n",
              "  font-family: monospace;\n",
              "  background-color: var(--sklearn-color-background);\n",
              "  border-radius: 1rem;\n",
              "  height: 1rem;\n",
              "  width: 1rem;\n",
              "  text-decoration: none;\n",
              "  /* unfitted */\n",
              "  color: var(--sklearn-color-unfitted-level-1);\n",
              "  border: var(--sklearn-color-unfitted-level-1) 1pt solid;\n",
              "}\n",
              "\n",
              "#sk-container-id-3 a.estimator_doc_link.fitted {\n",
              "  /* fitted */\n",
              "  border: var(--sklearn-color-fitted-level-1) 1pt solid;\n",
              "  color: var(--sklearn-color-fitted-level-1);\n",
              "}\n",
              "\n",
              "/* On hover */\n",
              "#sk-container-id-3 a.estimator_doc_link:hover {\n",
              "  /* unfitted */\n",
              "  background-color: var(--sklearn-color-unfitted-level-3);\n",
              "  color: var(--sklearn-color-background);\n",
              "  text-decoration: none;\n",
              "}\n",
              "\n",
              "#sk-container-id-3 a.estimator_doc_link.fitted:hover {\n",
              "  /* fitted */\n",
              "  background-color: var(--sklearn-color-fitted-level-3);\n",
              "}\n",
              "</style><div id=\"sk-container-id-3\" class=\"sk-top-container\"><div class=\"sk-text-repr-fallback\"><pre>GaussianNB()</pre><b>In a Jupyter environment, please rerun this cell to show the HTML representation or trust the notebook. <br />On GitHub, the HTML representation is unable to render, please try loading this page with nbviewer.org.</b></div><div class=\"sk-container\" hidden><div class=\"sk-item\"><div class=\"sk-estimator fitted sk-toggleable\"><input class=\"sk-toggleable__control sk-hidden--visually\" id=\"sk-estimator-id-3\" type=\"checkbox\" checked><label for=\"sk-estimator-id-3\" class=\"sk-toggleable__label fitted sk-toggleable__label-arrow\"><div><div>GaussianNB</div></div><div><a class=\"sk-estimator-doc-link fitted\" rel=\"noreferrer\" target=\"_blank\" href=\"https://scikit-learn.org/1.6/modules/generated/sklearn.naive_bayes.GaussianNB.html\">?<span>Documentation for GaussianNB</span></a><span class=\"sk-estimator-doc-link fitted\">i<span>Fitted</span></span></div></label><div class=\"sk-toggleable__content fitted\"><pre>GaussianNB()</pre></div> </div></div></div></div>"
            ],
            "text/plain": [
              "GaussianNB()"
            ]
          },
          "execution_count": 55,
          "metadata": {},
          "output_type": "execute_result"
        }
      ],
      "source": [
        "#Entrenamos el modelo\n",
        "clf_expansion = GaussianNB()\n",
        "clf_expansion.fit(datos_expansion_train, genero_train_binario)  "
      ]
    },
    {
      "cell_type": "markdown",
      "metadata": {},
      "source": [
        "<span style=\"font-size: 20px;\"> C. 1. Imágenes de entrenamiento </span>"
      ]
    },
    {
      "cell_type": "code",
      "execution_count": 59,
      "metadata": {},
      "outputs": [],
      "source": [
        "prediccion_expansion_train = clf_expansion.predict(datos_expansion_train)"
      ]
    },
    {
      "cell_type": "markdown",
      "metadata": {},
      "source": [
        "<span style=\"font-size: 20px;\"> C. 2. Imágenes de testeo </span>"
      ]
    },
    {
      "cell_type": "code",
      "execution_count": 60,
      "metadata": {},
      "outputs": [],
      "source": [
        "prediccion_expansion_test = clf_expansion.predict(datos_expansion_test)"
      ]
    },
    {
      "cell_type": "markdown",
      "metadata": {},
      "source": [
        "<span style=\"font-size: 20px;\"> C. 3. Métricas </span>"
      ]
    },
    {
      "cell_type": "code",
      "execution_count": null,
      "metadata": {},
      "outputs": [
        {
          "name": "stdout",
          "output_type": "stream",
          "text": [
            "ACCURACY DEL MODELO ENTRENADO CON DATOS EXPANDIDOS\n",
            "\tConjunto de entrenamiento:  0.890375 \n",
            "\tConjunto de testeo:  0.495\n"
          ]
        }
      ],
      "source": [
        "accuracy_expansion_train = accuracy_score(genero_train_binario, prediccion_expansion_train )\n",
        "accuracy_expansion_test = accuracy_score(genero_test_binario, prediccion_expansion_test)\n",
        "print(\"ACCURACY DEL MODELO ENTRENADO CON DATOS EXPANDIDOS\")\n",
        "print(\"\\tConjunto de entrenamiento: \", accuracy_expansion_train, \"\\n\\tConjunto de testeo: \", accuracy_expansion_test)\n"
      ]
    },
    {
      "cell_type": "code",
      "execution_count": 61,
      "metadata": {},
      "outputs": [],
      "source": [
        "cm_expansion_train=confusion_matrix(genero_train_binario, prediccion_expansion_train)\n",
        "cm_expansion_test=confusion_matrix(genero_test_binario, prediccion_expansion_test)"
      ]
    },
    {
      "cell_type": "code",
      "execution_count": 67,
      "metadata": {},
      "outputs": [
        {
          "data": {
            "image/png": "[encoded data removed]",
            "text/plain": [
              "<Figure size 1500x500 with 4 Axes>"
            ]
          },
          "metadata": {},
          "output_type": "display_data"
        }
      ],
      "source": [
        "fig, ax = plt.subplots(1, 2, figsize=(15,5))\n",
        "fig.suptitle('Resultados con clasificador entrenado con Expansión Cuadrática')\n",
        "sns.heatmap(cm_expansion_train, annot=True, fmt=\"d\", cmap=\"Blues\", ax=ax[0],  xticklabels= etiquetas, yticklabels= etiquetas)\n",
        "ax[0].set_title(\"Entrenamiento\")\n",
        "ax[0].set_xlabel(\"Predicción\")\n",
        "ax[0].set_ylabel(\"Real\")\n",
        "\n",
        "sns.heatmap(cm_expansion_test, annot=True, fmt=\"d\", cmap=\"Oranges\", ax=ax[1], xticklabels= etiquetas, yticklabels= etiquetas)\n",
        "ax[1].set_title(\"Testeo\")\n",
        "ax[1].set_xlabel(\"Predicción\")\n",
        "ax[1].set_ylabel(\"Real\")\n",
        "plt.show()"
      ]
    }
  ],
  "metadata": {
    "colab": {
      "provenance": []
    },
    "kernelspec": {
      "display_name": "Python 3",
      "name": "python3"
    },
    "language_info": {
      "codemirror_mode": {
        "name": "ipython",
        "version": 3
      },
      "file_extension": ".py",
      "mimetype": "text/x-python",
      "name": "python",
      "nbconvert_exporter": "python",
      "pygments_lexer": "ipython3",
      "version": "3.12.6"
    }
  },
  "nbformat": 4,
  "nbformat_minor": 0
}
