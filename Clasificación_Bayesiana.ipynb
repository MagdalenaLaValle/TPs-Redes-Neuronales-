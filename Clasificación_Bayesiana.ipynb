{
  "cells": [
    {
      "cell_type": "markdown",
      "metadata": {
        "id": "SEeFm-uEppTZ"
      },
      "source": [
        "<span style=\"font-size: 30px;\">EJERCICIO DE CLASIFICACIÓN BAYESIANA </span>\n",
        "\n",
        "A partir del dataset de pesos y alturas, construir manualmente (sin usar sklearn) un Clasificador Bayesiano LDA. Para calcular los parámetros, utilizar las fórmulas compartidas en la notebook correspondiente."
      ]
    },
    {
      "cell_type": "markdown",
      "metadata": {},
      "source": [
        "<span style=\"font-size: 24px;\">Preparación de los datos</span>"
      ]
    },
    {
      "cell_type": "code",
      "execution_count": 2,
      "metadata": {
        "id": "1zQDIPrlpqFs"
      },
      "outputs": [],
      "source": [
        "import numpy as np\n",
        "import pandas as pd\n",
        "import matplotlib.pyplot as plt"
      ]
    },
    {
      "cell_type": "code",
      "execution_count": null,
      "metadata": {
        "id": "Xsm2eftYpm2-"
      },
      "outputs": [],
      "source": [
        "data_train=pd.read_csv('alturas-pesos-mils-train.csv')\n",
        "data_test=pd.read_csv('alturas-pesos-mils-test.csv')"
      ]
    },
    {
      "cell_type": "code",
      "execution_count": null,
      "metadata": {
        "collapsed": true,
        "id": "0aNomCforF-B"
      },
      "outputs": [],
      "source": [
        "#Paso la infromación del .csv a vectores para que sea más fácil manipular la información\n",
        "genero_train= data_train['Genero']\n",
        "wh_train=data_train.iloc[:, 2:4].values\n",
        "\n",
        "genero_test= data_test['Genero']\n",
        "wh_test=data_test.iloc[:, 2:4].values"
      ]
    },
    {
      "cell_type": "code",
      "execution_count": null,
      "metadata": {},
      "outputs": [],
      "source": [
        "wh_train"
      ]
    },
    {
      "cell_type": "code",
      "execution_count": null,
      "metadata": {},
      "outputs": [],
      "source": [
        "wh_test"
      ]
    },
    {
      "cell_type": "markdown",
      "metadata": {
        "id": "XTAlDwMer8e6"
      },
      "source": [
        "<span style=\"font-size: 24px;\">A. Clasificador manual</span>"
      ]
    },
    {
      "cell_type": "code",
      "execution_count": null,
      "metadata": {
        "colab": {
          "base_uri": "https://localhost:8080/"
        },
        "id": "wMWcihc7sDmn",
        "outputId": "f094ac2d-b60d-4021-a019-45bf020f12e0"
      },
      "outputs": [],
      "source": [
        "#Calculo las priors: la probabilidad de que una persona sea hombre o mujer\n",
        "total=len(genero_train)\n",
        "cant_hombres=len(genero_train[genero_train=='Hombre'])\n",
        "cant_mujeres=len(genero_train[genero_train=='Mujer'])\n",
        "suma=cant_mujeres + cant_hombres #esto es útil para asegurarse de que no hay otro tipo de dato\n",
        "print(\"TOTAL:\", total, \"\\nMUJERES\",  cant_mujeres, \"\\nHOMBRES:\", cant_hombres, \"\\nSUMA:\", suma)\n",
        "prior_hombre=cant_hombres/total\n",
        "prior_mujer=cant_mujeres/total\n",
        "print(\"PRIOR HOMBRES:\", prior_hombre, \"\\nPRIOR MUJERES:\", prior_mujer)"
      ]
    },
    {
      "cell_type": "markdown",
      "metadata": {
        "id": "WyGH_yO9uva8"
      },
      "source": [
        "\\begin{equation}\n",
        "  P(C_{i} | w, h) = \\frac{P( w, h | C_{i})\\times P(C_{i})}{P(w,h)}\n",
        "\\end{equation}"
      ]
    },
    {
      "cell_type": "markdown",
      "metadata": {
        "id": "xMPCs8meviCN"
      },
      "source": [
        "Veo que la altura va de 140 a 200cm, y los pesos de 20 a 140kg."
      ]
    },
    {
      "cell_type": "code",
      "execution_count": null,
      "metadata": {
        "id": "y28_SYh9s-cS"
      },
      "outputs": [],
      "source": [
        "#Propiedades para los bines\n",
        "minw=20\n",
        "maxw=130\n",
        "minh=135\n",
        "maxh=225\n",
        "cantidad_bines=100\n",
        "ancho_bines_peso=(maxw-minw)/cantidad_bines\n",
        "ancho_bines_altura=(maxh-minh)/cantidad_bines"
      ]
    },
    {
      "cell_type": "markdown",
      "metadata": {},
      "source": [
        "OPCIÓN 1: diseñamos un primer clasificador que si llega a un dato que no se puede clasificar, no lo toma en consideración"
      ]
    },
    {
      "cell_type": "code",
      "execution_count": null,
      "metadata": {},
      "outputs": [],
      "source": [
        "#OPCIÓN 1 - Si llega a un dato que no se puede clasificar, no lo toma en consideración\n",
        "def probabilidad_wh_A(wh_vector, genero):\n",
        "  cont_wh=0\n",
        "  cont_dado_genero=0\n",
        "  if(genero=='Hombre'):\n",
        "    cant_genero=cant_hombres\n",
        "  else:\n",
        "    cant_genero=cant_mujeres\n",
        "\n",
        "  peso=wh_vector[0]\n",
        "  altura=wh_vector[1]\n",
        "\n",
        "  #identifico en qué bin está\n",
        "  binW=int((peso-minw)/ancho_bines_peso)\n",
        "  binH=int((altura-minh)/ancho_bines_altura)\n",
        "\n",
        "  infW=minw+binW*ancho_bines_peso #límite inferior de peso del bin\n",
        "  supW=minw+(binW+1)*ancho_bines_peso #límite superior de peso del bin\n",
        "  infH=minh+binH*ancho_bines_altura #límite inferior de altura del bin\n",
        "  supH=minh+(binH+1)*ancho_bines_altura #límite superior de altura del bin\n",
        "\n",
        "  #cuento cuántas muestras hay en ese bin\n",
        "  for i in range(total):\n",
        "    if (infW<= wh_train[i, 0] <supW) and (infH<= wh_train[i,1] <supH):\n",
        "      cont_wh+=1\n",
        "      if (genero_train[i]==genero):\n",
        "        cont_dado_genero+=1\n",
        "\n",
        "  if cont_wh==0:\n",
        "    clasificado=False\n",
        "    proba=0\n",
        "    likelihood=0\n",
        "  else:\n",
        "      clasificado=True\n",
        "      proba=cont_wh/total\n",
        "      likelihood=cont_dado_genero/cant_genero\n",
        "  \n",
        "  return proba, likelihood, clasificado"
      ]
    },
    {
      "cell_type": "code",
      "execution_count": null,
      "metadata": {},
      "outputs": [],
      "source": [
        "def clasificador_manual_A(wh_vector, genero_vector):\n",
        "    cant_noClasificados=0\n",
        "    prediccion=[] #en este vector guardo los resultados de la predicción\n",
        "\n",
        "    #Recorre todos los elementos del array y los clasifica \n",
        "    for i in range(len(genero_vector)):\n",
        "        #print(\"Evalúo el elemento \",i, \"---PESO=\", peso_train[i], \"---ALTURA=\", altura_train[i])\n",
        "        proba_wh, likelihood_hombre,clasificado= probabilidad_wh_A(wh_vector[i], 'Hombre')\n",
        "\n",
        "        if clasificado==True:\n",
        "            #Calculo, por medio del teorema de Bayes, la probabilidad de que sea hombre\n",
        "            hombre_dado_wh= (likelihood_hombre * prior_hombre)/proba_wh\n",
        "            if(hombre_dado_wh>0.5):\n",
        "                prediccion.append(1) #de esta forma, HOMBRE=1 MUJER=0\n",
        "            else:\n",
        "                prediccion.append(0)\n",
        "        if clasificado==False:\n",
        "            cant_noClasificados+=1\n",
        "            print(\"La muestra \", i, \"no se pudo clasificar\")\n",
        "    \n",
        "    print(\"\\n\\nHUBO \", cant_noClasificados, \" ELEMENTOS QUE NO PUDIERON SER CLASIFICADOS\")\n",
        "    #una vez que termina, convierto la lista con las predicciones en array\n",
        "    prediccion=np.array(prediccion)\n",
        "\n",
        "    return prediccion"
      ]
    },
    {
      "cell_type": "markdown",
      "metadata": {},
      "source": [
        "OPCIÓN 2: En este segundo clasificador, si hay un dato que no puede ser clasificado, se compara esa muestra con los bins de alrededor del bin que le corresponde. Se ampliará el área de comparación hasta que la muestra pueda ser clasificada."
      ]
    },
    {
      "cell_type": "code",
      "execution_count": null,
      "metadata": {
        "id": "llOjkvbi4c6G"
      },
      "outputs": [],
      "source": [
        "def probabilidad_wh_B(wh_vector, genero, indice):\n",
        "  cont_wh=0\n",
        "  k=-1\n",
        "  cont_dado_genero=0\n",
        "  if(genero=='Hombre'):\n",
        "    cant_genero=cant_hombres\n",
        "  else:\n",
        "    cant_genero=cant_mujeres\n",
        "\n",
        "  peso=wh_vector[0]\n",
        "  altura=wh_vector[1]\n",
        "  #identifico en qué bin está\n",
        "  binW=int((peso-minw)/ancho_bines_peso)\n",
        "  binH=int((altura-minh)/ancho_bines_altura)\n",
        "\n",
        "  while(cont_wh==0): #Si encontró al menos un elemento en el mismo bin, sigue. Sino, se aplía el bin y se vuelve a hacer la búsqueda.\n",
        "    k+=1\n",
        "    infW=minw+(binW-k)*ancho_bines_peso #límite inferior de peso del bin\n",
        "    supW=minw+(binW+1+k)*ancho_bines_peso #límite superior de peso del bin\n",
        "    infH=minh+(binH-k)*ancho_bines_altura #límite inferior de altura del bin\n",
        "    supH=minh+(binH+1+k)*ancho_bines_altura #límite superior de altura del bin\n",
        "\n",
        "    #cuento cuántas muestras hay en ese bin\n",
        "    for i in range(total):\n",
        "      if (infW<= wh_train[i, 0] <supW) and (infH<= wh_train[i,1] <supH):\n",
        "        cont_wh+=1\n",
        "        if (genero_train[i]==genero):\n",
        "          cont_dado_genero+=1\n",
        "  \n",
        "  if k!=0:\n",
        "    print(\"Para la muestra \", indice, \"Se amplió \", k, \"veces el espacio de comparación\")\n",
        "\n",
        "  proba=cont_wh/total\n",
        "  likelihood=cont_dado_genero/cant_genero\n",
        "\n",
        "  return proba, likelihood"
      ]
    },
    {
      "cell_type": "code",
      "execution_count": null,
      "metadata": {},
      "outputs": [],
      "source": [
        "def clasificador_manual_B(wh_vector, genero_vector):\n",
        "    prediccion=np.zeros(len(genero_vector)) #en este vector guardo los resultados de la predicción\n",
        "\n",
        "    #Recorre todos los elementos del array y los clasifica \n",
        "    for i in range(len(genero_vector)):\n",
        "        #print(\"Evalúo el elemento \",i, \"---PESO=\", peso_train[i], \"---ALTURA=\", altura_train[i])\n",
        "        proba_wh, likelihood_hombre= probabilidad_wh_B(wh_vector[i], 'Hombre', i)\n",
        "        hombre_dado_wh= (likelihood_hombre * prior_hombre)/proba_wh\n",
        "        if(hombre_dado_wh>0.5):\n",
        "            prediccion[i]=1 \n",
        "\n",
        "    return prediccion"
      ]
    },
    {
      "cell_type": "markdown",
      "metadata": {
        "id": "H0MTX77IhNpA"
      },
      "source": [
        "<span style=\"font-size: 20px;\"> A.1. Imágenes de entrenamiento </span>"
      ]
    },
    {
      "cell_type": "code",
      "execution_count": null,
      "metadata": {},
      "outputs": [],
      "source": [
        "#con la primera opción\n",
        "prediccion_manual_train_A=clasificador_manual_A(wh_train, genero_train)"
      ]
    },
    {
      "cell_type": "code",
      "execution_count": null,
      "metadata": {},
      "outputs": [],
      "source": [
        "prediccion_manual_train_B=clasificador_manual_B(wh_train, genero_train)"
      ]
    },
    {
      "cell_type": "markdown",
      "metadata": {
        "id": "VDSvmuUJr5yO"
      },
      "source": [
        "<span style=\"font-size: 20px;\"> A. 2. Imágenes de testeo </span>"
      ]
    },
    {
      "cell_type": "code",
      "execution_count": null,
      "metadata": {},
      "outputs": [],
      "source": [
        "prediccion_manual_test_A=clasificador_manual_A(wh_test, genero_test)"
      ]
    },
    {
      "cell_type": "code",
      "execution_count": null,
      "metadata": {},
      "outputs": [],
      "source": [
        "prediccion_manual_test_B=clasificador_manual_B(wh_test, genero_test)"
      ]
    },
    {
      "cell_type": "markdown",
      "metadata": {},
      "source": [
        "<span style=\"font-size: 20px;\"> A. 3. Métricas </span>"
      ]
    },
    {
      "cell_type": "code",
      "execution_count": null,
      "metadata": {},
      "outputs": [],
      "source": [
        "def binarizar_genero(vector):\n",
        "    binarizado=np.zeros(len(vector))\n",
        "    for i in range(len(vector)):\n",
        "        if (vector[i]=='Hombre'):\n",
        "            binarizado[i]=1\n",
        "    return binarizado"
      ]
    },
    {
      "cell_type": "code",
      "execution_count": null,
      "metadata": {
        "id": "G0Y0Nw1ip0GK"
      },
      "outputs": [],
      "source": [
        "#Paso los valores reales a números\n",
        "genero_train_binario=binarizar_genero(genero_train)\n",
        "genero_test_binario=binarizar_genero(genero_test)"
      ]
    },
    {
      "cell_type": "code",
      "execution_count": null,
      "metadata": {
        "id": "X6I0rdspq0X1"
      },
      "outputs": [],
      "source": [
        "etiquetas=['Hombre', 'Mujer']"
      ]
    },
    {
      "cell_type": "markdown",
      "metadata": {},
      "source": [
        "Diseñamos nuestra propiafunción para calcular el accuracy, según la ecuación: \n",
        "\n",
        "\\begin{equation}\n",
        " \\frac{TP +TN}{TP + TN + FP + FN}\n",
        "\\end{equation}\n",
        "\n"
      ]
    },
    {
      "cell_type": "code",
      "execution_count": null,
      "metadata": {},
      "outputs": [],
      "source": [
        "def accuracy_manual(prediccion, vector_real):\n",
        "    TP=0 #que prediga que es hombre (1) y realmente lo sea\n",
        "    TN=0 #que prediga que es mujer (0) y realmente lo sea \n",
        "\n",
        "    FN=0 #que prediga que es mujer (0) y en realidad es hombre (1)\n",
        "    FP=0 #que prediga que es hombre (1) y en realidad es muje (0)\n",
        "    for i in range(len(vector_real)):\n",
        "        if (prediccion[i]==1 and vector_real[i]==1):\n",
        "            TP+=1\n",
        "        if (prediccion[i]==0 and vector_real[i]==0):\n",
        "            TN+=1\n",
        "    accuracy=(TP + TN)/(len(vector_real))\n",
        "    return accuracy "
      ]
    },
    {
      "cell_type": "code",
      "execution_count": null,
      "metadata": {},
      "outputs": [],
      "source": [
        "accuracy_manual_train=accuracy_manual(prediccion_manual_train_B, genero_train_binario)\n",
        "accuracy_manual_test=accuracy_manual(prediccion_manual_test_B, genero_test_binario)\n",
        "print(\"ACCURACY DEL MODELO HECHO MANUALMENTE\")\n",
        "print(\"\\tConjunto de entrenamiento: \", accuracy_manual_train, \"\\n\\tConjunto de testeo: \", accuracy_manual_test)"
      ]
    },
    {
      "cell_type": "code",
      "execution_count": null,
      "metadata": {
        "id": "ngmLbDOEpLwr"
      },
      "outputs": [],
      "source": [
        "from sklearn.metrics import confusion_matrix, ConfusionMatrixDisplay\n",
        "import seaborn as sns"
      ]
    },
    {
      "cell_type": "code",
      "execution_count": null,
      "metadata": {},
      "outputs": [],
      "source": [
        "cm_manual_train=confusion_matrix(genero_train_binario, prediccion_manual_train_B)\n",
        "cm_manual_test=confusion_matrix(genero_test_binario, prediccion_manual_test_B)"
      ]
    },
    {
      "cell_type": "code",
      "execution_count": null,
      "metadata": {},
      "outputs": [],
      "source": [
        "fig, ax = plt.subplots(1, 2, figsize=(15,5))\n",
        "fig.suptitle('Resultados con clasificador hecho \"a mano\"')\n",
        "\n",
        "sns.heatmap(cm_manual_train, annot=True, fmt=\"d\", cmap=\"Blues\", ax=ax[0],  xticklabels= etiquetas, yticklabels= etiquetas)\n",
        "ax[0].set_title(\"Entrenamiento\")\n",
        "ax[0].set_xlabel(\"Predicción\")\n",
        "ax[0].set_ylabel(\"Real\")\n",
        "\n",
        "sns.heatmap(cm_manual_test, annot=True, fmt=\"d\", cmap=\"Oranges\", ax=ax[1], xticklabels= etiquetas, yticklabels= etiquetas)\n",
        "ax[1].set_title(\"Testeo\")\n",
        "ax[1].set_xlabel(\"Predicción\")\n",
        "ax[1].set_ylabel(\"Real\")\n",
        "plt.show()"
      ]
    },
    {
      "cell_type": "markdown",
      "metadata": {
        "id": "DE1tPGg5l0bJ"
      },
      "source": [
        "<span style=\"font-size: 24px;\"> B. Clasificador de SciKit-Learn </span>"
      ]
    },
    {
      "cell_type": "code",
      "execution_count": null,
      "metadata": {
        "id": "92OnaI_hl60o"
      },
      "outputs": [],
      "source": [
        "from sklearn.naive_bayes import GaussianNB"
      ]
    },
    {
      "cell_type": "code",
      "execution_count": null,
      "metadata": {},
      "outputs": [],
      "source": [
        "clf_sklearn = GaussianNB()\n",
        "clf_sklearn.fit(wh_train, genero_train_binario)  # Entrenar el modelo\n"
      ]
    },
    {
      "cell_type": "markdown",
      "metadata": {},
      "source": [
        "<span style=\"font-size: 20px;\"> B. 1. Imágenes de entrenamiento </span>"
      ]
    },
    {
      "cell_type": "code",
      "execution_count": null,
      "metadata": {},
      "outputs": [],
      "source": [
        "prediccion_sklearn_train = clf_sklearn.predict(wh_train)"
      ]
    },
    {
      "cell_type": "markdown",
      "metadata": {},
      "source": [
        "<span style=\"font-size: 20px;\"> B. 2. Imágenes de testeo </span>"
      ]
    },
    {
      "cell_type": "code",
      "execution_count": null,
      "metadata": {},
      "outputs": [],
      "source": [
        "prediccion_sklearn_test = clf_sklearn.predict(wh_test)"
      ]
    },
    {
      "cell_type": "markdown",
      "metadata": {},
      "source": [
        "<span style=\"font-size: 20px;\"> B. 3. Métricas </span>"
      ]
    },
    {
      "cell_type": "markdown",
      "metadata": {},
      "source": [
        "Calculamos el accuracy con la función de la propia librería Scikit-Learn"
      ]
    },
    {
      "cell_type": "code",
      "execution_count": null,
      "metadata": {},
      "outputs": [],
      "source": [
        "from sklearn.metrics import accuracy_score\n",
        "accuracy_sklearn_train = accuracy_score(genero_train_binario, prediccion_sklearn_train )\n",
        "accuracy_sklearn_test = accuracy_score(genero_test_binario, prediccion_sklearn_test)\n"
      ]
    },
    {
      "cell_type": "code",
      "execution_count": null,
      "metadata": {},
      "outputs": [],
      "source": [
        "print(\"ACCURACY DEL MODELO ENTRENADO CON SCIKIT-LEARN\")\n",
        "print(\"\\tConjunto de entrenamiento: \", accuracy_sklearn_train, \"\\n\\tConjunto de testeo: \", accuracy_sklearn_test)"
      ]
    },
    {
      "cell_type": "markdown",
      "metadata": {},
      "source": [
        "Para dar una mayor idea sobre el desempeño del modelo, mostramos las matrices de confusión."
      ]
    },
    {
      "cell_type": "code",
      "execution_count": null,
      "metadata": {},
      "outputs": [],
      "source": [
        "cm_sklearn_train=confusion_matrix(genero_train_binario, prediccion_sklearn_train)\n",
        "cm_sklearn_test=confusion_matrix(genero_test_binario, prediccion_sklearn_test)\n"
      ]
    },
    {
      "cell_type": "code",
      "execution_count": null,
      "metadata": {},
      "outputs": [],
      "source": [
        "fig, ax = plt.subplots(1, 2, figsize=(15,5))\n",
        "fig.suptitle('Resultados con clasificador hecho de SciKit-Learn')\n",
        "\n",
        "sns.heatmap(cm_sklearn_train, annot=True, fmt=\"d\", cmap=\"Blues\", ax=ax[0],  xticklabels= etiquetas, yticklabels= etiquetas)\n",
        "ax[0].set_title(\"Entrenamiento\")\n",
        "ax[0].set_xlabel(\"Predicción\")\n",
        "ax[0].set_ylabel(\"Real\")\n",
        "\n",
        "sns.heatmap(cm_sklearn_test, annot=True, fmt=\"d\", cmap=\"Oranges\", ax=ax[1], xticklabels= etiquetas, yticklabels= etiquetas)\n",
        "ax[1].set_title(\"Testeo\")\n",
        "ax[1].set_xlabel(\"Predicción\")\n",
        "ax[1].set_ylabel(\"Real\")\n",
        "plt.show()"
      ]
    },
    {
      "cell_type": "markdown",
      "metadata": {},
      "source": [
        "<span style=\"font-size: 24px;\"> C. Clasificación con método de Expansión Cuadrática </span>"
      ]
    },
    {
      "cell_type": "code",
      "execution_count": null,
      "metadata": {},
      "outputs": [],
      "source": [
        "#PREPARO EL VECTOR CON LOS DATOS\n",
        "def expandir_datos(wh_vector):\n",
        "    datos_extension=np.zeros([len(wh_vector), 5])\n",
        "    for i in range(len(wh_vector)):\n",
        "        peso=wh_train[i, 0]\n",
        "        altura=wh_train[i, 1]\n",
        "        datos_extension[i, 0]=peso\n",
        "        datos_extension[i, 1]=peso**2\n",
        "        datos_extension[i, 2]=altura\n",
        "        datos_extension[i, 3]=altura**2\n",
        "        datos_extension[i, 4]=peso*altura\n",
        "    return datos_extension"
      ]
    },
    {
      "cell_type": "code",
      "execution_count": null,
      "metadata": {},
      "outputs": [],
      "source": [
        "datos_expansion_train= expandir_datos(wh_train)\n",
        "datos_expansion_test=expandir_datos(wh_test)"
      ]
    },
    {
      "cell_type": "code",
      "execution_count": null,
      "metadata": {},
      "outputs": [],
      "source": [
        "#Entrenamos el modelo\n",
        "clf_expansion = GaussianNB()\n",
        "clf_expansion.fit(datos_expansion_train, genero_train_binario)  "
      ]
    },
    {
      "cell_type": "markdown",
      "metadata": {},
      "source": [
        "<span style=\"font-size: 20px;\"> C. 1. Imágenes de entrenamiento </span>"
      ]
    },
    {
      "cell_type": "code",
      "execution_count": null,
      "metadata": {},
      "outputs": [],
      "source": [
        "prediccion_expansion_train = clf_expansion.predict(datos_expansion_train)"
      ]
    },
    {
      "cell_type": "markdown",
      "metadata": {},
      "source": [
        "<span style=\"font-size: 20px;\"> C. 2. Imágenes de testeo </span>"
      ]
    },
    {
      "cell_type": "code",
      "execution_count": null,
      "metadata": {},
      "outputs": [],
      "source": [
        "prediccion_expansion_test = clf_expansion.predict(datos_expansion_test)"
      ]
    },
    {
      "cell_type": "markdown",
      "metadata": {},
      "source": [
        "<span style=\"font-size: 20px;\"> C. 3. Métricas </span>"
      ]
    },
    {
      "cell_type": "code",
      "execution_count": null,
      "metadata": {},
      "outputs": [],
      "source": [
        "accuracy_expansion_train = accuracy_score(genero_train_binario, prediccion_expansion_train )\n",
        "accuracy_expansion_test = accuracy_score(genero_test_binario, prediccion_expansion_test)\n",
        "print(\"ACCURACY DEL MODELO ENTRENADO CON DATOS EXPANDIDOS\")\n",
        "print(\"\\tConjunto de entrenamiento: \", accuracy_expansion_train, \"\\n\\tConjunto de testeo: \", accuracy_expansion_test)\n"
      ]
    },
    {
      "cell_type": "code",
      "execution_count": null,
      "metadata": {},
      "outputs": [],
      "source": [
        "cm_expansion_train=confusion_matrix(genero_train_binario, prediccion_expansion_train)\n",
        "cm_expansion_test=confusion_matrix(genero_test_binario, prediccion_expansion_test)"
      ]
    },
    {
      "cell_type": "code",
      "execution_count": null,
      "metadata": {},
      "outputs": [],
      "source": [
        "fig, ax = plt.subplots(1, 2, figsize=(15,5))\n",
        "fig.suptitle('Resultados con clasificador entrenado con Expansión Cuadrática')\n",
        "sns.heatmap(cm_expansion_train, annot=True, fmt=\"d\", cmap=\"Blues\", ax=ax[0],  xticklabels= etiquetas, yticklabels= etiquetas)\n",
        "ax[0].set_title(\"Entrenamiento\")\n",
        "ax[0].set_xlabel(\"Predicción\")\n",
        "ax[0].set_ylabel(\"Real\")\n",
        "\n",
        "sns.heatmap(cm_expansion_test, annot=True, fmt=\"d\", cmap=\"Oranges\", ax=ax[1], xticklabels= etiquetas, yticklabels= etiquetas)\n",
        "ax[1].set_title(\"Testeo\")\n",
        "ax[1].set_xlabel(\"Predicción\")\n",
        "ax[1].set_ylabel(\"Real\")\n",
        "plt.show()"
      ]
    }
  ],
  "metadata": {
    "colab": {
      "provenance": []
    },
    "kernelspec": {
      "display_name": ".venv",
      "language": "python",
      "name": "python3"
    },
    "language_info": {
      "codemirror_mode": {
        "name": "ipython",
        "version": 3
      },
      "file_extension": ".py",
      "mimetype": "text/x-python",
      "name": "python",
      "nbconvert_exporter": "python",
      "pygments_lexer": "ipython3",
      "version": "3.12.9"
    }
  },
  "nbformat": 4,
  "nbformat_minor": 0
}
